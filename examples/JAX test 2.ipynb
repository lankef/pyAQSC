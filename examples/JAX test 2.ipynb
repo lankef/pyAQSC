{
 "cells": [
  {
   "cell_type": "code",
   "execution_count": 1,
   "id": "4b7d36a6-0b12-47e8-b0f1-238547094539",
   "metadata": {},
   "outputs": [],
   "source": [
    "import jax.numpy as jnp\n",
    "import numpy as np\n",
    "import jaxlib\n",
    "from functools import partial\n",
    "from jax import jit, vmap, tree_util\n"
   ]
  },
  {
   "cell_type": "code",
   "execution_count": 28,
   "id": "0f0e1f3e-06aa-4576-a499-5b1819358adc",
   "metadata": {},
   "outputs": [],
   "source": [
    "# # testing if JAX distinguishes between static and non-static\n",
    "@jit\n",
    "def add(dyn: jaxlib.xla_extension.DeviceArray, dyn2):\n",
    "    print('both dynamic')\n",
    "    return(dyn+dyn2)\n",
    "\n",
    "@partial(jit, static_argnums=(0,))\n",
    "def add(stat: int, dyn):\n",
    "    print('stat and dyn')  \n",
    "    return(stat*1000+dyn)\n",
    "\n",
    "# def add(a, b):\n",
    "#     if isinstance(a, jaxlib.xla_extension.DeviceArray):\n",
    "#         return(100*a+b)\n",
    "#     else: \n",
    "#         if a == 0:\n",
    "#             return(666)\n",
    "#         else:\n",
    "#             return(-666)"
   ]
  },
  {
   "cell_type": "code",
   "execution_count": 26,
   "id": "22a0e925-af26-4bbf-9fc3-ce58108d7f28",
   "metadata": {},
   "outputs": [],
   "source": [
    "@jit \n",
    "def test():\n",
    "    out = []\n",
    "    print('testing traced')\n",
    "    out.append(add(jnp.array([1]), 10))\n",
    "    print('testing static')\n",
    "    for i in range(10):\n",
    "        out.append(add(i-5, 10))\n",
    "    return(out)\n",
    "    "
   ]
  },
  {
   "cell_type": "code",
   "execution_count": 19,
   "id": "f0a967de-6bd1-449c-8736-df83b3f1542d",
   "metadata": {},
   "outputs": [
    {
     "data": {
      "text/plain": [
       "True"
      ]
     },
     "execution_count": 19,
     "metadata": {},
     "output_type": "execute_result"
    }
   ],
   "source": [
    "isinstance(jnp.array([1]), jaxlib.xla_extension.DeviceArray)"
   ]
  },
  {
   "cell_type": "code",
   "execution_count": 29,
   "id": "fed25fbb-c78e-4ac2-8b16-97bec2de8589",
   "metadata": {},
   "outputs": [
    {
     "ename": "ValueError",
     "evalue": "Non-hashable static arguments are not supported. An error occurred during a call to 'add' while trying to hash an object of type <class 'jaxlib.xla_extension.DeviceArray'>, [1]. The error was:\nTypeError: unhashable type: 'DeviceArray'\n",
     "output_type": "error",
     "traceback": [
      "\u001b[0;31m---------------------------------------------------------------------------\u001b[0m",
      "\u001b[0;31mValueError\u001b[0m                                Traceback (most recent call last)",
      "Cell \u001b[0;32mIn[29], line 1\u001b[0m\n\u001b[0;32m----> 1\u001b[0m \u001b[43madd\u001b[49m\u001b[43m(\u001b[49m\u001b[43mjnp\u001b[49m\u001b[38;5;241;43m.\u001b[39;49m\u001b[43marray\u001b[49m\u001b[43m(\u001b[49m\u001b[43m[\u001b[49m\u001b[38;5;241;43m1\u001b[39;49m\u001b[43m]\u001b[49m\u001b[43m)\u001b[49m\u001b[43m,\u001b[49m\u001b[43m \u001b[49m\u001b[38;5;241;43m10\u001b[39;49m\u001b[43m)\u001b[49m\n",
      "\u001b[0;31mValueError\u001b[0m: Non-hashable static arguments are not supported. An error occurred during a call to 'add' while trying to hash an object of type <class 'jaxlib.xla_extension.DeviceArray'>, [1]. The error was:\nTypeError: unhashable type: 'DeviceArray'\n"
     ]
    }
   ],
   "source": [
    "add(jnp.array([1]), 10)"
   ]
  },
  {
   "cell_type": "code",
   "execution_count": null,
   "id": "1bda3759-dacf-4c52-84f3-d2099fdf9400",
   "metadata": {},
   "outputs": [],
   "source": []
  }
 ],
 "metadata": {
  "kernelspec": {
   "display_name": "nae",
   "language": "python",
   "name": "nae"
  },
  "language_info": {
   "codemirror_mode": {
    "name": "ipython",
    "version": 3
   },
   "file_extension": ".py",
   "mimetype": "text/x-python",
   "name": "python",
   "nbconvert_exporter": "python",
   "pygments_lexer": "ipython3",
   "version": "3.10.9"
  }
 },
 "nbformat": 4,
 "nbformat_minor": 5
}
