{
 "cells": [
  {
   "cell_type": "code",
   "execution_count": 1,
   "id": "4b7d36a6-0b12-47e8-b0f1-238547094539",
   "metadata": {},
   "outputs": [],
   "source": [
    "import jax.numpy as jnp\n",
    "import numpy as np\n",
    "import jaxlib\n",
    "from functools import partial\n",
    "from jax import jit, vmap, tree_util\n",
    "from matplotlib import pyplot as plt\n",
    "\n",
    "import sys\n",
    "sys.path.insert(1,'../')\n",
    "from aqsc import *\n"
   ]
  },
  {
   "cell_type": "code",
   "execution_count": 2,
   "id": "fa9f513c-0ea7-47d3-a99a-55c544fa46b8",
   "metadata": {},
   "outputs": [],
   "source": [
    "n=5\n",
    "test = np.random.random((n,10))\n",
    "test_exp = trig_to_exp_op(n)@test\n",
    "test_trig = exp_to_trig_op(n)@test"
   ]
  },
  {
   "cell_type": "code",
   "execution_count": 3,
   "id": "872b9290-412c-44fe-aae8-e591dbdd4225",
   "metadata": {},
   "outputs": [
    {
     "data": {
      "text/plain": [
       "DeviceArray([[0. +0.5j, 0. +0.j , 0. +0.j , 0. +0.j , 0.5+0.j ],\n",
       "             [0. +0.j , 0. +0.5j, 0. +0.j , 0.5+0.j , 0. +0.j ],\n",
       "             [0. +0.j , 0. +0.j , 1. +0.j , 0. +0.j , 0. +0.j ],\n",
       "             [0. +0.j , 0. -0.5j, 0. +0.j , 0.5+0.j , 0. +0.j ],\n",
       "             [0. -0.5j, 0. +0.j , 0. +0.j , 0. +0.j , 0.5+0.j ]],            dtype=complex128)"
      ]
     },
     "execution_count": 3,
     "metadata": {},
     "output_type": "execute_result"
    }
   ],
   "source": [
    "trig_to_exp_op(5)"
   ]
  },
  {
   "cell_type": "code",
   "execution_count": 4,
   "id": "13127491-26bd-4b97-9aec-85a8f15cd371",
   "metadata": {},
   "outputs": [
    {
     "name": "stdout",
     "output_type": "stream",
     "text": [
      "Difference\n"
     ]
    },
    {
     "data": {
      "image/png": "[encoded data removed]",
      "text/plain": [
       "<Figure size 800x300 with 2 Axes>"
      ]
     },
     "metadata": {},
     "output_type": "display_data"
    },
    {
     "name": "stdout",
     "output_type": "stream",
     "text": [
      "fractional errors b/w data and general formula\n",
      "Error type:     Fractional      Total          \n",
      "Avg:            0.e+00          0.e+00         \n",
      "Worst:          0.e+00          0.e+00         \n",
      "Std             0.e+00          0.e+00         \n",
      "Total imaginary component\n",
      "0.0\n",
      "\n",
      "Difference\n"
     ]
    },
    {
     "data": {
      "image/png": "[encoded data removed]",
      "text/plain": [
       "<Figure size 800x300 with 2 Axes>"
      ]
     },
     "metadata": {},
     "output_type": "display_data"
    },
    {
     "name": "stdout",
     "output_type": "stream",
     "text": [
      "fractional errors b/w data and general formula\n",
      "Error type:     Fractional      Total          \n",
      "Avg:            0.e+00          0.e+00         \n",
      "Worst:          0.e+00          0.e+00         \n",
      "Std             0.e+00          0.e+00         \n",
      "Total imaginary component\n",
      "0.0\n",
      "\n"
     ]
    }
   ],
   "source": [
    "compare_chiphifunc(ChiPhiFunc(test, 1).trig_to_exp(), ChiPhiFunc(test_exp, 1))\n",
    "compare_chiphifunc(ChiPhiFunc(test, 1).exp_to_trig(), ChiPhiFunc(test_trig, 1))"
   ]
  },
  {
   "cell_type": "code",
   "execution_count": 5,
   "id": "cf358b47-bda8-4c70-b470-09f58ed4c4c3",
   "metadata": {},
   "outputs": [
    {
     "data": {
      "text/plain": [
       "array([[0, 0, 3],\n",
       "       [0, 2, 0],\n",
       "       [1, 0, 0]])"
      ]
     },
     "execution_count": 5,
     "metadata": {},
     "output_type": "execute_result"
    }
   ],
   "source": [
    "np.fliplr(np.diag([1,2,3])).T"
   ]
  },
  {
   "cell_type": "code",
   "execution_count": 6,
   "id": "2ea20086-f1dd-47ea-ad67-66c03bc56120",
   "metadata": {},
   "outputs": [
    {
     "data": {
      "text/plain": [
       "array([[0, 0, 3],\n",
       "       [0, 2, 0],\n",
       "       [1, 0, 0]])"
      ]
     },
     "execution_count": 6,
     "metadata": {},
     "output_type": "execute_result"
    }
   ],
   "source": [
    "np.flipud(np.diag([1,2,3]))"
   ]
  },
  {
   "cell_type": "code",
   "execution_count": null,
   "id": "bdccd668-6fe0-4927-9bd6-10f5493c7ba2",
   "metadata": {},
   "outputs": [],
   "source": []
  }
 ],
 "metadata": {
  "kernelspec": {
   "display_name": "gpu",
   "language": "python",
   "name": "gpu"
  },
  "language_info": {
   "codemirror_mode": {
    "name": "ipython",
    "version": 3
   },
   "file_extension": ".py",
   "mimetype": "text/x-python",
   "name": "python",
   "nbconvert_exporter": "python",
   "pygments_lexer": "ipython3",
   "version": "3.11.3"
  }
 },
 "nbformat": 4,
 "nbformat_minor": 5
}
