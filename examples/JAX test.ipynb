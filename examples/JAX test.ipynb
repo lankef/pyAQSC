{
 "cells": [
  {
   "cell_type": "code",
   "execution_count": 1,
   "id": "5673c504-a51c-4c1a-a70d-4e4664f3bd93",
   "metadata": {},
   "outputs": [],
   "source": [
    "import jax.numpy as jnp\n",
    "from functools import partial\n",
    "from jax import jit, vmap, tree_util\n",
    "\n",
    "double_precision=False\n",
    "\n",
    "from qsc import spectral_diff_matrix\n",
    "from matplotlib import pyplot as plt"
   ]
  },
  {
   "cell_type": "code",
   "execution_count": 729,
   "id": "a81d4f4f-957c-4bca-9919-bf36b82c36aa",
   "metadata": {},
   "outputs": [],
   "source": [
    "class CustomClass:\n",
    "    def __init__(self, x: jnp.ndarray, mul: bool, additional:bool=True):\n",
    "        self.x = x\n",
    "        self.mul = mul\n",
    "\n",
    "    @jit\n",
    "    def calc(self, y):\n",
    "        if self.mul:\n",
    "            return(self.x * y)\n",
    "        return(y)\n",
    "    \n",
    "    @jit\n",
    "    def __add__(self, other):\n",
    "        if isinstance(other, CustomClass):\n",
    "            return(CustomClass(self.x+other.x, True))\n",
    "        return(self.x+other)\n",
    "    @jit\n",
    "    def test_mode(self):\n",
    "        if mode=='YES':\n",
    "            return(self)\n",
    "        else:\n",
    "            return(0)\n",
    "\n",
    "    def _tree_flatten(self):\n",
    "        children = (self.x,)  # arrays / dynamic values\n",
    "        aux_data = {'mul': self.mul}  # static values\n",
    "        return (children, aux_data)\n",
    "\n",
    "    @classmethod\n",
    "    def _tree_unflatten(cls, aux_data, children):\n",
    "        return cls(*children, **aux_data)\n",
    "\n",
    "tree_util.register_pytree_node(CustomClass,\n",
    "                               CustomClass._tree_flatten,\n",
    "                               CustomClass._tree_unflatten)"
   ]
  },
  {
   "cell_type": "code",
   "execution_count": 733,
   "id": "1a5caf27-0f94-46bd-960e-d8bee48a30d7",
   "metadata": {},
   "outputs": [
    {
     "ename": "TypeError",
     "evalue": "concatenate requires ndarray or scalar arguments, got <class 'list'> at position 1.",
     "output_type": "error",
     "traceback": [
      "\u001b[0;31m---------------------------------------------------------------------------\u001b[0m",
      "\u001b[0;31mTypeError\u001b[0m                                 Traceback (most recent call last)",
      "Cell \u001b[0;32mIn[733], line 1\u001b[0m\n\u001b[0;32m----> 1\u001b[0m a \u001b[38;5;241m=\u001b[39m jit(\u001b[43mjnp\u001b[49m\u001b[38;5;241;43m.\u001b[39;49m\u001b[43mconcatenate\u001b[49m\u001b[43m(\u001b[49m\u001b[43m[\u001b[49m\u001b[43mjnp\u001b[49m\u001b[38;5;241;43m.\u001b[39;49m\u001b[43marray\u001b[49m\u001b[43m(\u001b[49m\u001b[43m[\u001b[49m\u001b[38;5;241;43m1\u001b[39;49m\u001b[43m,\u001b[49m\u001b[38;5;241;43m2\u001b[39;49m\u001b[43m,\u001b[49m\u001b[38;5;241;43m3\u001b[39;49m\u001b[43m]\u001b[49m\u001b[43m)\u001b[49m\u001b[43m,\u001b[49m\u001b[43m[\u001b[49m\u001b[38;5;241;43m0\u001b[39;49m\u001b[43m]\u001b[49m\u001b[43m]\u001b[49m\u001b[43m)\u001b[49m)\n",
      "File \u001b[0;32m~/anaconda3/envs/nae/lib/python3.10/site-packages/jax/_src/numpy/lax_numpy.py:1772\u001b[0m, in \u001b[0;36mconcatenate\u001b[0;34m(arrays, axis, dtype)\u001b[0m\n\u001b[1;32m   1770\u001b[0m \u001b[38;5;28;01mif\u001b[39;00m \u001b[38;5;28misinstance\u001b[39m(arrays, (np\u001b[38;5;241m.\u001b[39mndarray, ndarray)):\n\u001b[1;32m   1771\u001b[0m   \u001b[38;5;28;01mreturn\u001b[39;00m _concatenate_array(arrays, axis, dtype\u001b[38;5;241m=\u001b[39mdtype)\n\u001b[0;32m-> 1772\u001b[0m _stackable(\u001b[38;5;241m*\u001b[39marrays) \u001b[38;5;129;01mor\u001b[39;00m \u001b[43m_check_arraylike\u001b[49m\u001b[43m(\u001b[49m\u001b[38;5;124;43m\"\u001b[39;49m\u001b[38;5;124;43mconcatenate\u001b[39;49m\u001b[38;5;124;43m\"\u001b[39;49m\u001b[43m,\u001b[49m\u001b[43m \u001b[49m\u001b[38;5;241;43m*\u001b[39;49m\u001b[43marrays\u001b[49m\u001b[43m)\u001b[49m\n\u001b[1;32m   1773\u001b[0m \u001b[38;5;28;01mif\u001b[39;00m \u001b[38;5;129;01mnot\u001b[39;00m \u001b[38;5;28mlen\u001b[39m(arrays):\n\u001b[1;32m   1774\u001b[0m   \u001b[38;5;28;01mraise\u001b[39;00m \u001b[38;5;167;01mValueError\u001b[39;00m(\u001b[38;5;124m\"\u001b[39m\u001b[38;5;124mNeed at least one array to concatenate.\u001b[39m\u001b[38;5;124m\"\u001b[39m)\n",
      "File \u001b[0;32m~/anaconda3/envs/nae/lib/python3.10/site-packages/jax/_src/numpy/util.py:345\u001b[0m, in \u001b[0;36m_check_arraylike\u001b[0;34m(fun_name, *args)\u001b[0m\n\u001b[1;32m    342\u001b[0m pos, arg \u001b[38;5;241m=\u001b[39m \u001b[38;5;28mnext\u001b[39m((i, arg) \u001b[38;5;28;01mfor\u001b[39;00m i, arg \u001b[38;5;129;01min\u001b[39;00m \u001b[38;5;28menumerate\u001b[39m(args)\n\u001b[1;32m    343\u001b[0m                 \u001b[38;5;28;01mif\u001b[39;00m \u001b[38;5;129;01mnot\u001b[39;00m _arraylike(arg))\n\u001b[1;32m    344\u001b[0m msg \u001b[38;5;241m=\u001b[39m \u001b[38;5;124m\"\u001b[39m\u001b[38;5;132;01m{}\u001b[39;00m\u001b[38;5;124m requires ndarray or scalar arguments, got \u001b[39m\u001b[38;5;132;01m{}\u001b[39;00m\u001b[38;5;124m at position \u001b[39m\u001b[38;5;132;01m{}\u001b[39;00m\u001b[38;5;124m.\u001b[39m\u001b[38;5;124m\"\u001b[39m\n\u001b[0;32m--> 345\u001b[0m \u001b[38;5;28;01mraise\u001b[39;00m \u001b[38;5;167;01mTypeError\u001b[39;00m(msg\u001b[38;5;241m.\u001b[39mformat(fun_name, \u001b[38;5;28mtype\u001b[39m(arg), pos))\n",
      "\u001b[0;31mTypeError\u001b[0m: concatenate requires ndarray or scalar arguments, got <class 'list'> at position 1."
     ]
    }
   ],
   "source": [
    "a = jit(jnp.concatenate([jnp.array([1,2,3]),[0]]))"
   ]
  },
  {
   "cell_type": "code",
   "execution_count": 93,
   "id": "6928e9e5-5cc7-49c9-b227-2c38c8ee3014",
   "metadata": {},
   "outputs": [
    {
     "ename": "TypeError",
     "evalue": "len() of unsized object",
     "output_type": "error",
     "traceback": [
      "\u001b[0;31m---------------------------------------------------------------------------\u001b[0m",
      "\u001b[0;31mIndexError\u001b[0m                                Traceback (most recent call last)",
      "File \u001b[0;32m~/anaconda3/envs/nae/lib/python3.10/site-packages/jax/core.py:1440\u001b[0m, in \u001b[0;36mShapedArray._len\u001b[0;34m(self, ignored_tracer)\u001b[0m\n\u001b[1;32m   1439\u001b[0m \u001b[38;5;28;01mtry\u001b[39;00m:\n\u001b[0;32m-> 1440\u001b[0m   \u001b[38;5;28;01mreturn\u001b[39;00m \u001b[38;5;28;43mself\u001b[39;49m\u001b[38;5;241;43m.\u001b[39;49m\u001b[43mshape\u001b[49m\u001b[43m[\u001b[49m\u001b[38;5;241;43m0\u001b[39;49m\u001b[43m]\u001b[49m\n\u001b[1;32m   1441\u001b[0m \u001b[38;5;28;01mexcept\u001b[39;00m \u001b[38;5;167;01mIndexError\u001b[39;00m \u001b[38;5;28;01mas\u001b[39;00m err:\n",
      "\u001b[0;31mIndexError\u001b[0m: tuple index out of range",
      "\nThe above exception was the direct cause of the following exception:\n",
      "\u001b[0;31mTypeError\u001b[0m                                 Traceback (most recent call last)",
      "Cell \u001b[0;32mIn[93], line 20\u001b[0m\n\u001b[1;32m     17\u001b[0m     \u001b[38;5;28;01mreturn\u001b[39;00m(out)\n\u001b[1;32m     19\u001b[0m ss \u001b[38;5;241m=\u001b[39m tree_util\u001b[38;5;241m.\u001b[39mPartial(py_sum_10)\n\u001b[0;32m---> 20\u001b[0m \u001b[43mss\u001b[49m\u001b[43m(\u001b[49m\u001b[43mf_1d\u001b[49m\u001b[43m)\u001b[49m\n",
      "    \u001b[0;31m[... skipping hidden 11 frame]\u001b[0m\n",
      "Cell \u001b[0;32mIn[93], line 16\u001b[0m, in \u001b[0;36mpy_sum_10\u001b[0;34m(f_in)\u001b[0m\n\u001b[1;32m     14\u001b[0m out\u001b[38;5;241m=\u001b[39m\u001b[38;5;241m0\u001b[39m\n\u001b[1;32m     15\u001b[0m \u001b[38;5;28;01mfor\u001b[39;00m i \u001b[38;5;129;01min\u001b[39;00m \u001b[38;5;28mrange\u001b[39m(\u001b[38;5;241m10\u001b[39m):\n\u001b[0;32m---> 16\u001b[0m     out\u001b[38;5;241m+\u001b[39m\u001b[38;5;241m=\u001b[39m\u001b[43mf_in\u001b[49m\u001b[43m(\u001b[49m\u001b[43mi\u001b[49m\u001b[43m)\u001b[49m\n\u001b[1;32m     17\u001b[0m \u001b[38;5;28;01mreturn\u001b[39;00m(out)\n",
      "    \u001b[0;31m[... skipping hidden 5 frame]\u001b[0m\n",
      "Cell \u001b[0;32mIn[93], line 3\u001b[0m, in \u001b[0;36msimple_sum_arg_1d\u001b[0;34m(ref)\u001b[0m\n\u001b[1;32m      1\u001b[0m \u001b[38;5;129m@jit\u001b[39m\n\u001b[1;32m      2\u001b[0m \u001b[38;5;28;01mdef\u001b[39;00m \u001b[38;5;21msimple_sum_arg_1d\u001b[39m(ref):\n\u001b[0;32m----> 3\u001b[0m     \u001b[38;5;28;01mreturn\u001b[39;00m(\u001b[38;5;28;43mlen\u001b[39;49m\u001b[43m(\u001b[49m\u001b[43mref\u001b[49m\u001b[43m)\u001b[49m)\n",
      "    \u001b[0;31m[... skipping hidden 1 frame]\u001b[0m\n",
      "File \u001b[0;32m~/anaconda3/envs/nae/lib/python3.10/site-packages/jax/core.py:1442\u001b[0m, in \u001b[0;36mShapedArray._len\u001b[0;34m(self, ignored_tracer)\u001b[0m\n\u001b[1;32m   1440\u001b[0m   \u001b[38;5;28;01mreturn\u001b[39;00m \u001b[38;5;28mself\u001b[39m\u001b[38;5;241m.\u001b[39mshape[\u001b[38;5;241m0\u001b[39m]\n\u001b[1;32m   1441\u001b[0m \u001b[38;5;28;01mexcept\u001b[39;00m \u001b[38;5;167;01mIndexError\u001b[39;00m \u001b[38;5;28;01mas\u001b[39;00m err:\n\u001b[0;32m-> 1442\u001b[0m   \u001b[38;5;28;01mraise\u001b[39;00m \u001b[38;5;167;01mTypeError\u001b[39;00m(\u001b[38;5;124m\"\u001b[39m\u001b[38;5;124mlen() of unsized object\u001b[39m\u001b[38;5;124m\"\u001b[39m) \u001b[38;5;28;01mfrom\u001b[39;00m \u001b[38;5;21;01merr\u001b[39;00m\n",
      "\u001b[0;31mTypeError\u001b[0m: len() of unsized object"
     ]
    }
   ],
   "source": [
    "@jit\n",
    "def simple_sum_arg_1d(ref):\n",
    "    return(len(ref))\n",
    "\n",
    "\n",
    "def simple_sum_arg_2d(ref, refb):\n",
    "    return(len(ref)+len(refb))\n",
    "\n",
    "f_1d = tree_util.Partial(simple_sum_arg_1d)\n",
    "f_2d = tree_util.Partial(simple_sum_arg_2d)\n",
    "\n",
    "@jit\n",
    "def py_sum_10(f_in):\n",
    "    out=0\n",
    "    for i in range(10):\n",
    "        out+=f_in(i)\n",
    "    return(out)\n",
    "\n",
    "ss = tree_util.Partial(py_sum_10)\n",
    "ss(f_1d)"
   ]
  },
  {
   "cell_type": "code",
   "execution_count": 89,
   "id": "0be95156-1da2-4696-b713-24e60df0b526",
   "metadata": {},
   "outputs": [
    {
     "data": {
      "text/plain": [
       "DeviceArray(10, dtype=int32, weak_type=True)"
      ]
     },
     "execution_count": 89,
     "metadata": {},
     "output_type": "execute_result"
    }
   ],
   "source": [
    "@jit\n",
    "def py_sum(f_in, ref):\n",
    "    out=0\n",
    "    for i in range(len(ref)):\n",
    "        out+=f_in(i)\n",
    "    return(out)\n",
    "\n",
    "ss = tree_util.Partial(py_sum)\n",
    "\n",
    "def nested_sum_arg_1d(ref):\n",
    "    return(\n",
    "        ss(f_2d())\n",
    "    )\n",
    "\n",
    "\n",
    "ref = jnp.zeros(5)\n",
    "ss(f_1d,ref)"
   ]
  },
  {
   "cell_type": "code",
   "execution_count": null,
   "id": "03855d43-cd2d-47b6-9cdb-b4e48aba401c",
   "metadata": {},
   "outputs": [],
   "source": [
    "\n",
    "\n",
    "@jit\n",
    "def simple_sum_arg_2d(a):\n",
    "    return(a*b)\n",
    "\n",
    "f_2d = tree_util.Partial(simple_sum_arg_2d)\n",
    "\n"
   ]
  },
  {
   "cell_type": "code",
   "execution_count": 75,
   "id": "b826f514-93f8-42d7-a7d9-828839d5c59b",
   "metadata": {},
   "outputs": [
    {
     "ename": "TypeError",
     "evalue": "f2_with_sum() takes 0 positional arguments but 1 was given",
     "output_type": "error",
     "traceback": [
      "\u001b[0;31m---------------------------------------------------------------------------\u001b[0m",
      "\u001b[0;31mTypeError\u001b[0m                                 Traceback (most recent call last)",
      "Cell \u001b[0;32mIn[75], line 1\u001b[0m\n\u001b[0;32m----> 1\u001b[0m \u001b[38;5;28mprint\u001b[39m(\u001b[43mss\u001b[49m\u001b[43m(\u001b[49m\u001b[43msf2\u001b[49m\u001b[43m)\u001b[49m)\n",
      "Cell \u001b[0;32mIn[58], line 17\u001b[0m, in \u001b[0;36msum_10\u001b[0;34m(f_in)\u001b[0m\n\u001b[1;32m     15\u001b[0m out\u001b[38;5;241m=\u001b[39m\u001b[38;5;241m0\u001b[39m\n\u001b[1;32m     16\u001b[0m \u001b[38;5;28;01mfor\u001b[39;00m i \u001b[38;5;129;01min\u001b[39;00m \u001b[38;5;28mrange\u001b[39m(\u001b[38;5;241m10\u001b[39m):\n\u001b[0;32m---> 17\u001b[0m     out\u001b[38;5;241m+\u001b[39m\u001b[38;5;241m=\u001b[39m\u001b[43mf_in\u001b[49m\u001b[43m(\u001b[49m\u001b[43mi\u001b[49m\u001b[43m)\u001b[49m\n\u001b[1;32m     18\u001b[0m \u001b[38;5;28;01mreturn\u001b[39;00m(out)\n",
      "    \u001b[0;31m[... skipping hidden 10 frame]\u001b[0m\n",
      "File \u001b[0;32m~/anaconda3/envs/nae/lib/python3.10/site-packages/jax/linear_util.py:167\u001b[0m, in \u001b[0;36mWrappedFun.call_wrapped\u001b[0;34m(self, *args, **kwargs)\u001b[0m\n\u001b[1;32m    164\u001b[0m gen \u001b[38;5;241m=\u001b[39m gen_static_args \u001b[38;5;241m=\u001b[39m out_store \u001b[38;5;241m=\u001b[39m \u001b[38;5;28;01mNone\u001b[39;00m\n\u001b[1;32m    166\u001b[0m \u001b[38;5;28;01mtry\u001b[39;00m:\n\u001b[0;32m--> 167\u001b[0m   ans \u001b[38;5;241m=\u001b[39m \u001b[38;5;28;43mself\u001b[39;49m\u001b[38;5;241;43m.\u001b[39;49m\u001b[43mf\u001b[49m\u001b[43m(\u001b[49m\u001b[38;5;241;43m*\u001b[39;49m\u001b[43margs\u001b[49m\u001b[43m,\u001b[49m\u001b[43m \u001b[49m\u001b[38;5;241;43m*\u001b[39;49m\u001b[38;5;241;43m*\u001b[39;49m\u001b[38;5;28;43mdict\u001b[39;49m\u001b[43m(\u001b[49m\u001b[38;5;28;43mself\u001b[39;49m\u001b[38;5;241;43m.\u001b[39;49m\u001b[43mparams\u001b[49m\u001b[43m,\u001b[49m\u001b[43m \u001b[49m\u001b[38;5;241;43m*\u001b[39;49m\u001b[38;5;241;43m*\u001b[39;49m\u001b[43mkwargs\u001b[49m\u001b[43m)\u001b[49m\u001b[43m)\u001b[49m\n\u001b[1;32m    168\u001b[0m \u001b[38;5;28;01mexcept\u001b[39;00m:\n\u001b[1;32m    169\u001b[0m   \u001b[38;5;66;03m# Some transformations yield from inside context managers, so we have to\u001b[39;00m\n\u001b[1;32m    170\u001b[0m   \u001b[38;5;66;03m# interrupt them before reraising the exception. Otherwise they will only\u001b[39;00m\n\u001b[1;32m    171\u001b[0m   \u001b[38;5;66;03m# get garbage-collected at some later time, running their cleanup tasks\u001b[39;00m\n\u001b[1;32m    172\u001b[0m   \u001b[38;5;66;03m# only after this exception is handled, which can corrupt the global\u001b[39;00m\n\u001b[1;32m    173\u001b[0m   \u001b[38;5;66;03m# state.\u001b[39;00m\n\u001b[1;32m    174\u001b[0m   \u001b[38;5;28;01mwhile\u001b[39;00m stack:\n",
      "\u001b[0;31mTypeError\u001b[0m: f2_with_sum() takes 0 positional arguments but 1 was given"
     ]
    }
   ],
   "source": [
    "\n",
    "print(ss(sf2))"
   ]
  },
  {
   "cell_type": "code",
   "execution_count": 760,
   "id": "b6a8a33a-fc2c-484a-beef-69f965a2a7b8",
   "metadata": {},
   "outputs": [
    {
     "data": {
      "text/plain": [
       "DeviceArray([  -4.56160441,   35.20160135,  -20.12059962,   25.38691324,\n",
       "              -64.84197916,   66.3264349 ,  -49.61293668,  -11.91394443,\n",
       "               14.27944173,   -3.69585637,   31.65045859,  -10.10907242,\n",
       "               35.59127279,  -58.83317717,   30.73721932,  -12.56477863,\n",
       "               -0.13754917,   39.32627995,  -22.08803789,   12.93577868,\n",
       "              -82.13339519,   78.83627468,  -12.79060375,  -59.44189371,\n",
       "               45.60075228,    5.11217665,   26.32888909,  -16.90106228,\n",
       "              -31.38767908,  -28.94986779,   83.4030814 ,  -22.19810077,\n",
       "              -22.95503231,    3.95621423,  -23.42670287,   24.2955491 ,\n",
       "               52.62609992,  -38.94182806,   -5.1167526 ,    7.39973394,\n",
       "              -22.5167627 ,  -17.49360826,    4.85632166,   22.77947867,\n",
       "               -2.34063738,    9.66945449,  -47.42469768,   26.36649264,\n",
       "               14.50272606,  -33.19551978,   38.95847392,   22.2991261 ,\n",
       "              -53.35122953,   24.20582127,  -41.37768945,   24.86764375,\n",
       "                0.39919712,    5.17055009,   26.97142971,   14.6798232 ,\n",
       "              -12.73557178,  -21.36813788,   -6.05348594,  -11.58909617,\n",
       "               82.41816717,  -87.51810175,   21.38440325,   18.9464669 ,\n",
       "              -12.61930729,   24.76926222,    6.83242562,  -27.26937196,\n",
       "               -2.09104509,   28.91078995,  -33.03927669,   44.65364692,\n",
       "              -27.39239245,   34.57500305,  -38.10126894,   -9.83716087,\n",
       "                3.07861595,   14.32139164,  -40.89216943,    9.22451627,\n",
       "              -23.96545545,   71.27453167,  -36.67984773,  -17.08726654,\n",
       "               51.91068433,  -17.54004711,  -26.03711983,  -21.02592871,\n",
       "               82.97269696,  -87.14729987,   74.09334628,  -30.48240917,\n",
       "              -27.93081575,  -36.15073924,   80.16165739,  -34.9735887 ,\n",
       "              -28.08404686,   38.14113381,   25.60110375,    1.12237998,\n",
       "              -20.2493469 ,  -29.37631879,   47.27705671,  -21.30080867,\n",
       "                5.95445729,   16.56752006,  -29.22740041,   19.84611988,\n",
       "              -13.49654696,    5.57934472,   28.41727774,  -60.33330852,\n",
       "               53.75697951,  -10.90786829,  -14.10377256,   -4.79444941,\n",
       "               -3.76902019,  -57.15194703,   88.21604753,  -22.20219626,\n",
       "               10.09008893,  -11.33322481,  -43.69887006,   60.23121716,\n",
       "              -55.57507069,   91.4677951 ,  -49.80935237,   48.54756759,\n",
       "              -62.73047289,  -16.50279353,   25.18909654,  -30.68386591,\n",
       "               54.05301012,  -15.66742644,   -7.63471309,   37.65705411,\n",
       "              -73.17909255,   23.69610529,   31.76618653,    4.85249476,\n",
       "              -95.41464806,   65.25907068,  -54.14288632,   99.1476129 ,\n",
       "              -68.29880791,   37.36331166,   13.40108309,    4.41874039,\n",
       "              -34.45338097,   -0.72799188,   51.15179947,  -19.76648762,\n",
       "              -25.30449312,    5.09745071,    7.42573391,   -4.78208541,\n",
       "               -1.44168078,  -13.77219214,   35.80327808,  -32.16616577,\n",
       "               53.74622139,  -52.32662648,   43.64049256,  -50.92369474,\n",
       "              -27.37320568,   42.36826016,   15.88381913,  -31.14903618,\n",
       "               64.65513639,  -32.38130438,    4.72491663,  -44.30829001,\n",
       "               52.62953913,   -6.76357599,   18.34955783,  -62.36147653,\n",
       "               61.41264845,  -54.89393796,   23.53223239,  -17.72558068,\n",
       "                1.92183334,   30.54659129,  -16.55125825,  -48.44652172,\n",
       "               34.24784097,  -29.65861599,   40.36817416,   10.39768515,\n",
       "              -32.33936879,   13.96323254,  -29.53921577,   60.70524246,\n",
       "              -31.59820887,    7.85905686,   -7.33668155,  -33.18456808,\n",
       "               55.46024125,  -71.74667214,   70.63132068,  -31.24210269,\n",
       "                5.25657679,    6.65872432,  -42.74648949,   38.37947768,\n",
       "              -22.28859103,   72.07134918,  -68.16461544,   25.40633976,\n",
       "              -51.14641042,   74.48850469,  -10.6701396 ,   23.07467531,\n",
       "              -58.68056835,    3.21170813,  -12.26306597,   -8.9355782 ,\n",
       "               50.23902782,   20.05191906,  -62.13350448,   78.84610358,\n",
       "              -38.68296346,   38.37483795,  -60.0380843 ,   30.88894274,\n",
       "               -9.58464341,  -25.56418444,   54.46369111,  -43.65381682,\n",
       "                3.69086096,   20.27895445,  -28.95936845,  -27.42434564,\n",
       "               40.94461886,   11.5071976 ,   15.37149361,  -23.32801415,\n",
       "               -1.02312526,  -58.11461853,   70.22111063,  -42.60712143,\n",
       "               26.9304227 ,   -7.85890624,  -32.9105411 ,   35.12848588,\n",
       "              -14.8644612 ,  -20.76615788,   67.53262118,  -39.0848394 ,\n",
       "               -4.68505857,   60.16549126,  -52.14654346,  -29.28753701,\n",
       "               51.45851482,  -61.68904781,   83.67893963,  -82.25247055,\n",
       "               48.14302195,   -8.26718897,  -19.97683341,   15.82601848,\n",
       "               -8.50673469,   -6.02060723,   43.9562109 ,  -33.97366609,\n",
       "               -0.77700582,   16.27178328,  -17.11762422,   38.10046202,\n",
       "              -81.29765533,  116.15261885,  -72.05400222,   34.80411447,\n",
       "              -36.66694332,   46.85143531,  -16.39280997,  -16.52243528,\n",
       "               59.61214639,  -60.78354764,  -21.75902354,   27.66288445,\n",
       "              -36.50061164,   13.05720576,  -35.08531841,   40.19284074,\n",
       "               -1.31631243,  -11.45928858,   -5.99773692,    0.92097549,\n",
       "               -1.76248241,   30.03717736,   18.89737505,   14.63467686,\n",
       "             -101.53332407,   77.21561838,    5.99564613,  -22.6414477 ,\n",
       "              -39.10777553,   37.55159534,  -43.30376862,   54.6379715 ,\n",
       "              -25.50642169,   -1.22638123,    9.22546273,   14.1702367 ,\n",
       "              -13.78511814,   53.26487713,  -49.93896213,  -13.66265593,\n",
       "               69.14942932,  -47.43765091,   46.46828726,  -67.73945308,\n",
       "               19.55834719,   31.2620822 ,  -33.90564717,   64.02365155,\n",
       "             -133.27390139,  121.23089436,  -62.89422181,   21.74685811,\n",
       "              -23.28064496,   20.98340534,   26.61995607,  -45.12799787,\n",
       "               31.58768473,   -9.90996658,  -34.61364006,  101.00694904,\n",
       "              -78.56139626,   48.52227593,  -37.88119796,  -23.04133491,\n",
       "               18.48014097,  -32.22177285,    1.10613157,   23.81422406,\n",
       "                0.79608706,   54.55662549,  -29.39027994,   30.06032417,\n",
       "              -62.114727  ,   -2.71732118,   -2.0524764 ,    7.41632957,\n",
       "               41.69531051,  -38.15205231,   50.02313711,  -64.3527591 ,\n",
       "               -7.84912751,   54.83995107,   12.27579045,  -42.9258417 ,\n",
       "               54.36809254,  -29.22865067,  -53.84555086,   39.19124677,\n",
       "               -5.27835086,   -7.20896232,   26.68147815,   11.77108682,\n",
       "               -8.6038983 ,  -28.86375785,   59.06202964,  -77.86740228,\n",
       "               81.13781132,  -80.82783987,   69.63355306,  -49.17672041,\n",
       "               33.85184562,  -34.3699038 ,   10.61462511,   33.02692086,\n",
       "              -28.4208633 ,   -2.07503009,   13.45365904,   16.44546359,\n",
       "              -48.02816244,   52.07583316,  -33.51577843,   -4.27527966,\n",
       "               20.09839909,  -26.36215581,    2.45717323,   69.44474505,\n",
       "              -82.78907935,   26.40318579,   30.85308637,  -48.96632156,\n",
       "                9.81117358,   -6.37386896,   -1.76151805,   -7.6534888 ,\n",
       "                0.37871144,  -28.91859169,   35.22514512,    8.81813598,\n",
       "              -15.52774947,   27.08133227,   -8.70041165,   41.16304579,\n",
       "              -50.39337321,   48.87210645,  -67.79685967,   13.43013858,\n",
       "                7.70448339,  -23.66644579,   37.55576923,    2.8166242 ,\n",
       "              -23.87704823,   14.93541884,   13.88075809,  -60.28417415,\n",
       "               50.25662938,  -10.17856046,  -13.49241611,    9.83247403,\n",
       "               59.47786816,  -71.47884462,  -20.05912735,   50.77604781,\n",
       "                0.19032978,  -71.39371569,   60.84584633,  -15.14585426,\n",
       "               49.20623972,  -41.37843817,  -26.31664496,   36.47738238,\n",
       "               55.21022001,  -70.01378498,  -14.14227332,   36.57408131,\n",
       "              -41.34398792,    7.43873449,    9.76414312,  -48.35071893,\n",
       "               70.64604053,   23.53571569,  -55.81410493,    0.82009   ,\n",
       "               56.82997562,  -77.3890696 ,   86.36506738,  -56.06790695,\n",
       "                8.38262425,    3.42631061,  -18.66114928,   47.04675759,\n",
       "              -93.93593275,  134.69465181,  -95.42536869,   16.68840709,\n",
       "               14.61484363,    5.72570975,  -35.05772708,   -2.39575138,\n",
       "               16.56842065,   27.55124521,  -90.79300641,   97.42756969,\n",
       "              -41.84994537,   43.42601681,  -79.52074912,   62.47148542,\n",
       "              -39.61592485,   30.02854055,   -9.7922278 ,   14.31821132,\n",
       "               -1.80739993,  -29.26938149,   18.17579369,   -9.81439653,\n",
       "                2.19507475,   -0.85703976,   20.41842963,  -28.6274947 ,\n",
       "               99.17472875,  -73.37583862,  -32.24949266,   29.65903446,\n",
       "               29.12318652,  -60.52220036,   56.42954825,  -82.34421501,\n",
       "               69.28613266,  -42.83343097,   97.54805345,  -74.55374982,\n",
       "               87.43289061,  -96.930803  ,   55.0210033 ,  -57.73986109,\n",
       "               29.81990541,  -37.80606028,   51.48784158,  -24.92375821],            dtype=float64)"
      ]
     },
     "execution_count": 760,
     "metadata": {},
     "output_type": "execute_result"
    }
   ],
   "source": [
    "dummy(np.random.rand((500)))"
   ]
  },
  {
   "cell_type": "code",
   "execution_count": null,
   "id": "51153eed-695e-4f2a-853f-fec634bd692a",
   "metadata": {},
   "outputs": [],
   "source": []
  }
 ],
 "metadata": {
  "kernelspec": {
   "display_name": "nae",
   "language": "python",
   "name": "nae"
  },
  "language_info": {
   "codemirror_mode": {
    "name": "ipython",
    "version": 3
   },
   "file_extension": ".py",
   "mimetype": "text/x-python",
   "name": "python",
   "nbconvert_exporter": "python",
   "pygments_lexer": "ipython3",
   "version": "3.10.9"
  },
  "toc-autonumbering": false,
  "toc-showcode": true,
  "toc-showmarkdowntxt": false
 },
 "nbformat": 4,
 "nbformat_minor": 5
}
