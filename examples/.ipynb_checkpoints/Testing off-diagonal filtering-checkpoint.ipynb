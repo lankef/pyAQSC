{
 "cells": [
  {
   "cell_type": "markdown",
   "id": "192c42c0-343a-46bf-bd64-3dba1550db94",
   "metadata": {},
   "source": [
    "# Iteration test\n",
    "This file demonstrates how to initialize an Equilibrium object from leading order quantities and tests its accuracy."
   ]
  },
  {
   "cell_type": "code",
   "execution_count": 1,
   "id": "f32c02ee-1840-4e77-bd6e-57ff1f62a567",
   "metadata": {},
   "outputs": [],
   "source": [
    "# This file implements and tests recursion relations\n",
    "import numpy as np\n",
    "from matplotlib import pyplot as plt\n",
    "\n",
    "# for importing parsed codes\n",
    "import sys\n",
    "import cProfile\n",
    "sys.path.insert(1,'../python_source/MHD_parsed/')\n",
    "sys.path.insert(1,'../python_source/')\n",
    "from chiphifunc import *\n",
    "from math_utilities import *\n",
    "from chiphiepsfunc import *\n",
    "from chiphifunc_test_suite import *\n",
    "from equilibrium import *\n",
    "\n",
    "from leading_orders import *\n",
    "\n",
    "\n",
    "import MHD_parsed\n",
    "debug_path = '../test_data_eduardo/'"
   ]
  },
  {
   "cell_type": "markdown",
   "id": "2634862e-bdb0-470a-9210-39ea5935f416",
   "metadata": {},
   "source": [
    "## Initializing an `Equilibrium`\n",
    "### Required quantities and orders\n",
    "Unknowns:\n",
    "\n",
    "1. X_coef_cp: 2\n",
    "2. Y_coef_cp: 2\n",
    "3. Z_coef_cp: 2\n",
    "4. B_psi_coef_cp: 0\n",
    "5. B_theta_coef_cp: 2\n",
    "6. iota_coef: 0\n",
    "7. Delta_coef_cp: 3\n",
    "8. p_perp_coef_cp: 3\n",
    "\n",
    "Known constants:\n",
    "1. B_denom_coef_c: 2\n",
    "2. B_alpha_coef: 1\n",
    "3. kap_p\n",
    "4. dl_p \n",
    "5. tau_p\n",
    "6. eta"
   ]
  },
  {
   "cell_type": "code",
   "execution_count": 2,
   "id": "af65c663-c736-47e0-bdb3-8908484d632f",
   "metadata": {},
   "outputs": [],
   "source": [
    "pr = cProfile.Profile()      # create a cProfiler object \n",
    "pr.enable()                  # turn profiling on\n",
    "pr.runcall(circular_axis)    # profile my function\n",
    "pr.disable()   "
   ]
  },
  {
   "cell_type": "code",
   "execution_count": 3,
   "id": "9ceed126-4401-4501-8b0d-3f67d7d85db0",
   "metadata": {},
   "outputs": [],
   "source": [
    "import pstats\n",
    "from pstats import SortKey\n",
    "p = pstats.Stats(pr)           # create pstats obj based on profiler above."
   ]
  },
  {
   "cell_type": "code",
   "execution_count": 4,
   "id": "844cb915-4609-4eef-91f4-1c79766b83e3",
   "metadata": {},
   "outputs": [
    {
     "name": "stdout",
     "output_type": "stream",
     "text": [
      "         58246006 function calls (57123489 primitive calls) in 131.304 seconds\n",
      "\n",
      "   Ordered by: cumulative time\n",
      "   List reduced from 2231 to 150 due to restriction <150>\n",
      "   List reduced from 150 to 31 due to restriction <'Code JAX'>\n",
      "\n",
      "   ncalls  tottime  percall  cumtime  percall filename:lineno(function)\n",
      "        1    0.000    0.000  132.063  132.063 /Users/lanke/Desktop/Second year project/Code JAX/pyAQSC/examples/../python_source/leading_orders.py:10(circular_axis)\n",
      "        1    0.004    0.004  132.052  132.052 /Users/lanke/Desktop/Second year project/Code JAX/pyAQSC/examples/../python_source/leading_orders.py:290(leading_orders)\n",
      "        1    0.002    0.002  125.576  125.576 /Users/lanke/Desktop/Second year project/Code JAX/pyAQSC/examples/../python_source/looped_solver.py:1310(iterate_looped)\n",
      "        1    0.001    0.001  102.339  102.339 /Users/lanke/Desktop/Second year project/Code JAX/pyAQSC/examples/../python_source/looped_solver.py:31(generate_RHS)\n",
      "     6015   15.463    0.003   27.330    0.005 /Users/lanke/Desktop/Second year project/Code JAX/pyAQSC/examples/../python_source/chiphifunc.py:347(__mul__)\n",
      "  677/212    0.005    0.000   23.057    0.109 /Users/lanke/Desktop/Second year project/Code JAX/pyAQSC/examples/../python_source/math_utilities.py:13(py_sum)\n",
      "        1    0.002    0.002   21.925   21.925 /Users/lanke/Desktop/Second year project/Code JAX/pyAQSC/examples/../python_source/looped_solver.py:305(generate_tensor_operator)\n",
      "        1    0.003    0.003   21.299   21.299 /Users/lanke/Desktop/Second year project/Code JAX/pyAQSC/examples/../python_source/MHD_parsed/eval_loop.py:12(eval_loop)\n",
      "        1    1.474    1.474   14.239   14.239 /Users/lanke/Desktop/Second year project/Code JAX/pyAQSC/examples/../python_source/looped_coefs/lambda_B_psi_coef.py:61(<lambda>)\n",
      "     2213    0.022    0.000   10.883    0.005 /Users/lanke/Desktop/Second year project/Code JAX/pyAQSC/examples/../python_source/math_utilities.py:76(diff)\n",
      "     2494    0.024    0.000    9.218    0.004 /Users/lanke/Desktop/Second year project/Code JAX/pyAQSC/examples/../python_source/math_utilities.py:54(diff_backend)\n",
      "     3125    0.021    0.000    5.390    0.002 /Users/lanke/Desktop/Second year project/Code JAX/pyAQSC/examples/../python_source/chiphifunc.py:276(__add__)\n",
      "        2    0.000    0.000    4.979    2.489 /Users/lanke/Desktop/Second year project/Code JAX/pyAQSC/examples/../python_source/equilibrium.py:286(iterate_delta_n_0_offset)\n",
      "      666    0.006    0.000    4.099    0.006 /Users/lanke/Desktop/Second year project/Code JAX/pyAQSC/examples/../python_source/chiphifunc.py:496(dphi)\n",
      "        1    0.527    0.527    3.903    3.903 /Users/lanke/Desktop/Second year project/Code JAX/pyAQSC/examples/../python_source/looped_coefs/lambda_B_psi_coef.py:117(<lambda>)\n",
      "        1    0.000    0.000    3.718    3.718 /Users/lanke/Desktop/Second year project/Code JAX/pyAQSC/examples/../python_source/equilibrium.py:234(iterate_dc_B_psi_nm2)\n",
      "     1785    0.009    0.000    3.104    0.002 /Users/lanke/Desktop/Second year project/Code JAX/pyAQSC/examples/../python_source/chiphifunc.py:473(dchi)\n",
      "        1    0.000    0.000    3.102    3.102 /Users/lanke/Desktop/Second year project/Code JAX/pyAQSC/examples/../python_source/equilibrium.py:29(iterate_Xn_cp)\n",
      "        1    0.000    0.000    2.395    2.395 /Users/lanke/Desktop/Second year project/Code JAX/pyAQSC/examples/../python_source/equilibrium.py:208(iterate_Zn_cp)\n",
      "        1    0.000    0.000    2.392    2.392 /Users/lanke/Desktop/Second year project/Code JAX/pyAQSC/examples/../python_source/parsed/eval_znp1.py:269(eval_Zn_cp)\n",
      "21744/21741    0.086    0.000    2.334    0.000 /Users/lanke/Desktop/Second year project/Code JAX/pyAQSC/examples/../python_source/chiphifunc.py:194(__init__)\n",
      "        2    0.000    0.000    2.076    1.038 /Users/lanke/Desktop/Second year project/Code JAX/pyAQSC/examples/../python_source/equilibrium.py:260(iterate_p_perp_n)\n",
      "      572    0.002    0.000    1.799    0.003 /Users/lanke/Desktop/Second year project/Code JAX/pyAQSC/examples/../python_source/chiphifunc.py:339(__sub__)\n",
      "      326    0.003    0.000    1.568    0.005 /Users/lanke/Desktop/Second year project/Code JAX/pyAQSC/examples/../python_source/chiphifunc.py:101(jit_fftfreq_int)\n",
      "        1    0.000    0.000    1.495    1.495 /Users/lanke/Desktop/Second year project/Code JAX/pyAQSC/examples/../python_source/equilibrium.py:63(iterate_Yn_cp_RHS)\n",
      "     1673    0.002    0.000    1.296    0.001 /Users/lanke/Desktop/Second year project/Code JAX/pyAQSC/examples/../python_source/chiphifunc.py:389(__rmul__)\n",
      "        1    0.000    0.000    1.237    1.237 /Users/lanke/Desktop/Second year project/Code JAX/pyAQSC/examples/../python_source/parsed/eval_dchi_b_psi_nm2.py:9(eval_dchi_B_psi_cp_nm2)\n",
      "    15173    0.020    0.000    1.224    0.000 /Users/lanke/Desktop/Second year project/Code JAX/pyAQSC/examples/../python_source/chiphifunc.py:247(_tree_unflatten)\n",
      "        1    0.000    0.000    1.128    1.128 /Users/lanke/Desktop/Second year project/Code JAX/pyAQSC/examples/../python_source/parsed/eval_xn.py:17(eval_Xn_cp)\n",
      "        1    0.001    0.001    1.109    1.109 /Users/lanke/Desktop/Second year project/Code JAX/pyAQSC/examples/../python_source/parsed/eval_znp1.py:11(eval_Znp1_cp)\n",
      "        1    0.072    0.072    1.020    1.020 /Users/lanke/Desktop/Second year project/Code JAX/pyAQSC/examples/../python_source/looped_coefs/lambda_B_psi_coef.py:64(<lambda>)\n",
      "\n",
      "\n"
     ]
    },
    {
     "data": {
      "text/plain": [
       "<pstats.Stats at 0x7f85d54b3a60>"
      ]
     },
     "execution_count": 4,
     "metadata": {},
     "output_type": "execute_result"
    }
   ],
   "source": [
    "# p.print_stats()\n",
    "p.sort_stats(SortKey.CUMULATIVE).print_stats(150, 'Code JAX')\n",
    "# p.print_callers('reraise_with_filtered_traceback')  # find all the callers of isinstance."
   ]
  },
  {
   "cell_type": "code",
   "execution_count": 5,
   "id": "a37799af-a7de-49ef-a84e-c9b3c8068e50",
   "metadata": {},
   "outputs": [],
   "source": [
    "pr2 = cProfile.Profile()      # create a cProfiler object \n",
    "pr2.enable()                  # turn profiling on\n",
    "pr2.runcall(circular_axis)    # profile my function\n",
    "pr2.disable()   \n"
   ]
  },
  {
   "cell_type": "code",
   "execution_count": 6,
   "id": "753cc1b3-8a43-4810-a592-5238c628d21b",
   "metadata": {},
   "outputs": [],
   "source": [
    "p2 = pstats.Stats(pr2)           # create pstats obj based on profiler above."
   ]
  },
  {
   "cell_type": "code",
   "execution_count": 10,
   "id": "030a2fd6-52d8-4b5b-9543-0104088383f7",
   "metadata": {},
   "outputs": [
    {
     "name": "stdout",
     "output_type": "stream",
     "text": [
      "         2370678 function calls (2370625 primitive calls) in 32.513 seconds\n",
      "\n",
      "   Ordered by: cumulative time\n",
      "   List reduced from 514 to 150 due to restriction <150>\n",
      "   List reduced from 150 to 32 due to restriction <'Code JAX'>\n",
      "\n",
      "   ncalls  tottime  percall  cumtime  percall filename:lineno(function)\n",
      "        1    0.000    0.000   32.516   32.516 /Users/lanke/Desktop/Second year project/Code JAX/pyAQSC/examples/../python_source/leading_orders.py:10(circular_axis)\n",
      "        1    0.011    0.011   32.506   32.506 /Users/lanke/Desktop/Second year project/Code JAX/pyAQSC/examples/../python_source/leading_orders.py:290(leading_orders)\n",
      "        1    0.002    0.002   31.672   31.672 /Users/lanke/Desktop/Second year project/Code JAX/pyAQSC/examples/../python_source/looped_solver.py:1310(iterate_looped)\n",
      "        1    0.001    0.001   17.996   17.996 /Users/lanke/Desktop/Second year project/Code JAX/pyAQSC/examples/../python_source/looped_solver.py:305(generate_tensor_operator)\n",
      "      931   14.474    0.016   14.933    0.016 /Users/lanke/Desktop/Second year project/Code JAX/pyAQSC/examples/../python_source/chiphifunc.py:347(__mul__)\n",
      "        1   10.660   10.660   13.182   13.182 /Users/lanke/Desktop/Second year project/Code JAX/pyAQSC/examples/../python_source/looped_solver.py:31(generate_RHS)\n",
      "        1    1.432    1.432   12.918   12.918 /Users/lanke/Desktop/Second year project/Code JAX/pyAQSC/examples/../python_source/looped_coefs/lambda_B_psi_coef.py:61(<lambda>)\n",
      "        1    0.462    0.462    3.501    3.501 /Users/lanke/Desktop/Second year project/Code JAX/pyAQSC/examples/../python_source/looped_coefs/lambda_B_psi_coef.py:117(<lambda>)\n",
      "      469    0.008    0.000    1.393    0.003 /Users/lanke/Desktop/Second year project/Code JAX/pyAQSC/examples/../python_source/chiphifunc.py:276(__add__)\n",
      "        2    0.825    0.413    0.834    0.417 /Users/lanke/Desktop/Second year project/Code JAX/pyAQSC/examples/../python_source/equilibrium.py:286(iterate_delta_n_0_offset)\n",
      "        1    0.763    0.763    0.768    0.768 /Users/lanke/Desktop/Second year project/Code JAX/pyAQSC/examples/../python_source/equilibrium.py:234(iterate_dc_B_psi_nm2)\n",
      "      230    0.001    0.000    0.649    0.003 /Users/lanke/Desktop/Second year project/Code JAX/pyAQSC/examples/../python_source/chiphifunc.py:339(__sub__)\n",
      "        1    0.104    0.104    0.624    0.624 /Users/lanke/Desktop/Second year project/Code JAX/pyAQSC/examples/../python_source/looped_coefs/lambda_B_psi_coef.py:173(<lambda>)\n",
      "        1    0.590    0.590    0.593    0.593 /Users/lanke/Desktop/Second year project/Code JAX/pyAQSC/examples/../python_source/equilibrium.py:29(iterate_Xn_cp)\n",
      "        1    0.113    0.113    0.592    0.592 /Users/lanke/Desktop/Second year project/Code JAX/pyAQSC/examples/../python_source/looped_coefs/lambda_B_psi_coef.py:64(<lambda>)\n",
      "        1    0.000    0.000    0.374    0.374 /Users/lanke/Desktop/Second year project/Code JAX/pyAQSC/examples/../python_source/equilibrium.py:208(iterate_Zn_cp)\n",
      "        1    0.370    0.370    0.370    0.370 /Users/lanke/Desktop/Second year project/Code JAX/pyAQSC/examples/../python_source/parsed/eval_znp1.py:269(eval_Zn_cp)\n",
      "2357/2354    0.016    0.000    0.366    0.000 /Users/lanke/Desktop/Second year project/Code JAX/pyAQSC/examples/../python_source/chiphifunc.py:194(__init__)\n",
      "        1    0.291    0.291    0.293    0.293 /Users/lanke/Desktop/Second year project/Code JAX/pyAQSC/examples/../python_source/equilibrium.py:63(iterate_Yn_cp_RHS)\n",
      "       90    0.000    0.000    0.257    0.003 /Users/lanke/Desktop/Second year project/Code JAX/pyAQSC/examples/../python_source/chiphifunc.py:343(__rsub__)\n",
      "        1    0.001    0.001    0.236    0.236 /Users/lanke/Desktop/Second year project/Code JAX/pyAQSC/examples/../python_source/looped_coefs/lambda_B_psi_coef_in_vars.py:2(<lambda>)\n",
      "        1    0.003    0.003    0.222    0.222 /Users/lanke/Desktop/Second year project/Code JAX/pyAQSC/examples/../python_source/looped_coefs/Y_coefs.py:3(eval_y_coefs)\n",
      "        2    0.177    0.088    0.182    0.091 /Users/lanke/Desktop/Second year project/Code JAX/pyAQSC/examples/../python_source/equilibrium.py:260(iterate_p_perp_n)\n",
      "      722    0.002    0.000    0.092    0.000 /Users/lanke/Desktop/Second year project/Code JAX/pyAQSC/examples/../python_source/chiphifunc.py:247(_tree_unflatten)\n",
      "        1    0.000    0.000    0.084    0.084 /Users/lanke/Desktop/Second year project/Code JAX/pyAQSC/examples/../python_source/looped_coefs/lambda_B_psi_coef_in_vars.py:4(<lambda>)\n",
      "        1    0.000    0.000    0.074    0.074 /Users/lanke/Desktop/Second year project/Code JAX/pyAQSC/examples/../python_source/looped_coefs/lambda_B_psi_coef_in_vars.py:8(<lambda>)\n",
      "       17    0.001    0.000    0.046    0.003 /Users/lanke/Desktop/Second year project/Code JAX/pyAQSC/examples/../python_source/chiphifunc.py:570(filter)\n",
      "      227    0.000    0.000    0.036    0.000 /Users/lanke/Desktop/Second year project/Code JAX/pyAQSC/examples/../python_source/chiphifunc.py:389(__rmul__)\n",
      "       13    0.000    0.000    0.032    0.002 /Users/lanke/Desktop/Second year project/Code JAX/pyAQSC/examples/../python_source/chiphifunc.py:596(filter_reduced_length)\n",
      "        3    0.000    0.000    0.022    0.007 /Users/lanke/Desktop/Second year project/Code JAX/pyAQSC/examples/../python_source/chiphifunc.py:1330(fft_conv_op)\n",
      "      146    0.002    0.000    0.020    0.000 /Users/lanke/Desktop/Second year project/Code JAX/pyAQSC/examples/../python_source/chiphifunc.py:272(__neg__)\n",
      "        1    0.006    0.006    0.019    0.019 /Users/lanke/Desktop/Second year project/Code JAX/pyAQSC/examples/../python_source/equilibrium.py:48(iterate_Yn_cp_operators)\n",
      "\n",
      "\n"
     ]
    },
    {
     "data": {
      "text/plain": [
       "<pstats.Stats at 0x7f85f5a5bd00>"
      ]
     },
     "execution_count": 10,
     "metadata": {},
     "output_type": "execute_result"
    }
   ],
   "source": [
    "# p.print_stats()\n",
    "p2.sort_stats(SortKey.CUMULATIVE).print_stats(150, 'Code JAX')\n",
    "# p.print_callers('reraise_with_filtered_traceback')  # find all the callers of isinstance."
   ]
  },
  {
   "cell_type": "code",
   "execution_count": 9,
   "id": "d3b8a6e9-3830-4d35-baa8-a53c391cbe38",
   "metadata": {},
   "outputs": [
    {
     "name": "stdout",
     "output_type": "stream",
     "text": [
      "CPU times: user 43.9 s, sys: 3.45 s, total: 47.3 s\n",
      "Wall time: 31.9 s\n"
     ]
    }
   ],
   "source": [
    "%%time\n",
    "equilibrium = circular_axis()"
   ]
  },
  {
   "cell_type": "markdown",
   "id": "da152d59-2430-4ca9-9ab3-28b0b66ca832",
   "metadata": {},
   "source": [
    "# Iterate 2 orders using the full MHD equations"
   ]
  },
  {
   "cell_type": "code",
   "execution_count": null,
   "id": "c3db509e-5788-475d-a3a1-ee070193037d",
   "metadata": {},
   "outputs": [],
   "source": [
    "def call1():\n",
    "    iterate_2(\n",
    "        equilibrium,\n",
    "        n_eval=4,\n",
    "        B_alpha_nb2=0,\n",
    "        B_denom_nm1=ChiPhiFunc(jnp.array([\n",
    "            [0.   +0.j   ],\n",
    "            [0.005+0.005j],\n",
    "            [0.005-0.005j],\n",
    "            [0.   +0.j   ]]), 1), \n",
    "        B_denom_n=ChiPhiFuncSpecial(0),\n",
    "        iota_new=-0.66367278,\n",
    "        max_freq=(20, 20)\n",
    "    )\n"
   ]
  },
  {
   "cell_type": "code",
   "execution_count": null,
   "id": "f387630d-0acf-473b-9473-8b139bc27724",
   "metadata": {
    "tags": []
   },
   "outputs": [],
   "source": [
    "cProfile.run(\"call1()\")"
   ]
  },
  {
   "cell_type": "markdown",
   "id": "0a609529-7c83-4335-9f24-8ab87167ab52",
   "metadata": {},
   "source": [
    "## Accessing data and checking accuracy"
   ]
  },
  {
   "cell_type": "code",
   "execution_count": 10,
   "id": "c4b2c0f7-88b4-4b18-bcdc-bc0be30d15c4",
   "metadata": {},
   "outputs": [
    {
     "ename": "NameError",
     "evalue": "name 'equilibrium_new' is not defined",
     "output_type": "error",
     "traceback": [
      "\u001b[0;31m---------------------------------------------------------------------------\u001b[0m",
      "\u001b[0;31mNameError\u001b[0m                                 Traceback (most recent call last)",
      "Cell \u001b[0;32mIn[10], line 1\u001b[0m\n\u001b[0;32m----> 1\u001b[0m \u001b[43mequilibrium_new\u001b[49m\u001b[38;5;241m.\u001b[39mdisplay_order(\u001b[38;5;241m4\u001b[39m)\n",
      "\u001b[0;31mNameError\u001b[0m: name 'equilibrium_new' is not defined"
     ]
    }
   ],
   "source": [
    "equilibrium_new.display_order(4)"
   ]
  },
  {
   "cell_type": "code",
   "execution_count": null,
   "id": "f021ff90-bf6e-4c41-a060-324ff9ca6707",
   "metadata": {},
   "outputs": [],
   "source": [
    "(J, Cb, Ck, Ct, I, II, III) = equilibrium_new.check_governing_equations(4)\n",
    "J.display_content()\n",
    "Cb.display_content()\n",
    "Ck.display_content()\n",
    "Ct.display_content()\n",
    "I.display_content()\n",
    "II.display_content()\n",
    "III.display_content()\n"
   ]
  },
  {
   "cell_type": "code",
   "execution_count": null,
   "id": "bb834028-29af-41ef-9efc-06396ab76061",
   "metadata": {},
   "outputs": [],
   "source": []
  },
  {
   "cell_type": "code",
   "execution_count": null,
   "id": "1315295b-a216-4c23-afe7-ae14e4ac2997",
   "metadata": {},
   "outputs": [],
   "source": []
  }
 ],
 "metadata": {
  "kernelspec": {
   "display_name": "nae",
   "language": "python",
   "name": "nae"
  },
  "language_info": {
   "codemirror_mode": {
    "name": "ipython",
    "version": 3
   },
   "file_extension": ".py",
   "mimetype": "text/x-python",
   "name": "python",
   "nbconvert_exporter": "python",
   "pygments_lexer": "ipython3",
   "version": "3.10.9"
  }
 },
 "nbformat": 4,
 "nbformat_minor": 5
}
