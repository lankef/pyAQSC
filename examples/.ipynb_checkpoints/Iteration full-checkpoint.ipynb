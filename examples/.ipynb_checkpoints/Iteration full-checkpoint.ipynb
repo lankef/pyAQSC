{
 "cells": [
  {
   "cell_type": "markdown",
   "id": "192c42c0-343a-46bf-bd64-3dba1550db94",
   "metadata": {},
   "source": [
    "# Iteration test\n",
    "This file demonstrates how to initialize an Equilibrium object from leading order quantities and tests its accuracy."
   ]
  },
  {
   "cell_type": "code",
   "execution_count": 1,
   "id": "f32c02ee-1840-4e77-bd6e-57ff1f62a567",
   "metadata": {},
   "outputs": [],
   "source": [
    "# This file implements and tests recursion relations\n",
    "import numpy as np\n",
    "from matplotlib import pyplot as plt\n",
    "\n",
    "# for importing parsed codes\n",
    "import sys\n",
    "import cProfile\n",
    "sys.path.insert(1,'../python_source/MHD_parsed/')\n",
    "sys.path.insert(1,'../python_source/')\n",
    "from chiphifunc import *\n",
    "from math_utilities import *\n",
    "from chiphiepsfunc import *\n",
    "from chiphifunc_test_suite import *\n",
    "from equilibrium import *\n",
    "\n",
    "from leading_orders import *\n",
    "\n",
    "\n",
    "import MHD_parsed\n",
    "debug_path = '../test_data_eduardo/'"
   ]
  },
  {
   "cell_type": "markdown",
   "id": "2634862e-bdb0-470a-9210-39ea5935f416",
   "metadata": {},
   "source": [
    "## Initializing an `Equilibrium`\n",
    "### Required quantities and orders\n",
    "Unknowns:\n",
    "\n",
    "1. X_coef_cp: 2\n",
    "2. Y_coef_cp: 2\n",
    "3. Z_coef_cp: 2\n",
    "4. B_psi_coef_cp: 0\n",
    "5. B_theta_coef_cp: 2\n",
    "6. iota_coef: 0\n",
    "7. Delta_coef_cp: 3\n",
    "8. p_perp_coef_cp: 3\n",
    "\n",
    "Known constants:\n",
    "1. B_denom_coef_c: 2\n",
    "2. B_alpha_coef: 1\n",
    "3. kap_p\n",
    "4. dl_p \n",
    "5. tau_p\n",
    "6. eta"
   ]
  },
  {
   "cell_type": "raw",
   "id": "1283e92b-7f47-46f4-814f-741f44e1bfb5",
   "metadata": {},
   "source": [
    "pr = cProfile.Profile()      # create a cProfiler object \n",
    "pr.enable()                  # turn profiling on\n",
    "pr.runcall(circular_axis)    # profile my function\n",
    "pr.disable()   "
   ]
  },
  {
   "cell_type": "raw",
   "id": "74a058a2-8d0e-4325-bd17-285ef785cd80",
   "metadata": {},
   "source": [
    "import pstats\n",
    "from pstats import SortKey\n",
    "p = pstats.Stats(pr)           # create pstats obj based on profiler above."
   ]
  },
  {
   "cell_type": "raw",
   "id": "f8fd6ee8-ef29-4ac9-890b-82dc21741a54",
   "metadata": {
    "jupyter": {
     "outputs_hidden": true
    },
    "tags": []
   },
   "source": [
    "# p.print_stats()\n",
    "p.sort_stats(SortKey.CUMULATIVE).print_stats(150, 'Code JAX')\n",
    "# p.print_callers('reraise_with_filtered_traceback')  # find all the callers of isinstance."
   ]
  },
  {
   "cell_type": "raw",
   "id": "302b334e-4527-4074-ba53-d76b01c08c49",
   "metadata": {},
   "source": [
    "pr2 = cProfile.Profile()      # create a cProfiler object \n",
    "pr2.enable()                  # turn profiling on\n",
    "pr2.runcall(circular_axis)    # profile my function\n",
    "pr2.disable()   \n"
   ]
  },
  {
   "cell_type": "raw",
   "id": "6460ecc3-6b49-42e2-b48a-4e7af7d4993f",
   "metadata": {},
   "source": [
    "p2 = pstats.Stats(pr2)           # create pstats obj based on profiler above."
   ]
  },
  {
   "cell_type": "raw",
   "id": "beffe0fb-597a-4581-bbd2-2e5d8bece91f",
   "metadata": {},
   "source": [
    "# p.print_stats()\n",
    "p2.sort_stats(SortKey.CUMULATIVE).print_stats(150, 'Code JAX')\n",
    "# p.print_callers('reraise_with_filtered_traceback')  # find all the callers of isinstance."
   ]
  },
  {
   "cell_type": "code",
   "execution_count": 2,
   "id": "d3b8a6e9-3830-4d35-baa8-a53c391cbe38",
   "metadata": {},
   "outputs": [
    {
     "name": "stdout",
     "output_type": "stream",
     "text": [
      "filtered_inv_looped_fft_operator (2, 1000, 2, 1000)\n",
      "filtered_RHS_0_offset (2, 1000)\n",
      "CPU times: user 1min 40s, sys: 9.04 s, total: 1min 49s\n",
      "Wall time: 1min 14s\n"
     ]
    }
   ],
   "source": [
    "%%time\n",
    "equilibrium = circular_axis()"
   ]
  },
  {
   "cell_type": "code",
   "execution_count": null,
   "id": "fc60fdc1-5049-464a-9713-2ddac0fb4633",
   "metadata": {},
   "outputs": [
    {
     "name": "stdout",
     "output_type": "stream",
     "text": [
      "Evaluating order 3 4\n"
     ]
    }
   ],
   "source": [
    "equilibrium_new = iterate_2(\n",
    "    equilibrium,\n",
    "    n_eval=4,\n",
    "    B_alpha_nb2=0,\n",
    "    B_denom_nm1=ChiPhiFunc(jnp.array([\n",
    "        [0.   +0.j   ],\n",
    "        [0.005+0.005j],\n",
    "        [0.005-0.005j],\n",
    "        [0.   +0.j   ]]), 1), \n",
    "    B_denom_n=ChiPhiFuncSpecial(0),\n",
    "    iota_new=-0.66367278,\n",
    "    max_freq=(20, 20)\n",
    ")"
   ]
  },
  {
   "cell_type": "markdown",
   "id": "da152d59-2430-4ca9-9ab3-28b0b66ca832",
   "metadata": {},
   "source": [
    "# Iterate 2 orders using the full MHD equations"
   ]
  },
  {
   "cell_type": "raw",
   "id": "1531272d-c547-45d8-bfd9-955ad6cbcb27",
   "metadata": {},
   "source": [
    "def call1():\n",
    "    iterate_2(\n",
    "        equilibrium,\n",
    "        n_eval=4,\n",
    "        B_alpha_nb2=0,\n",
    "        B_denom_nm1=ChiPhiFunc(jnp.array([\n",
    "            [0.   +0.j   ],\n",
    "            [0.005+0.005j],\n",
    "            [0.005-0.005j],\n",
    "            [0.   +0.j   ]]), 1), \n",
    "        B_denom_n=ChiPhiFuncSpecial(0),\n",
    "        iota_new=-0.66367278,\n",
    "        max_freq=(20, 20)\n",
    "    )\n"
   ]
  },
  {
   "cell_type": "raw",
   "id": "660ed040-5fe9-4948-9301-d3d51ef57bda",
   "metadata": {
    "tags": []
   },
   "source": [
    "cProfile.run(\"call1()\")"
   ]
  },
  {
   "cell_type": "markdown",
   "id": "0a609529-7c83-4335-9f24-8ab87167ab52",
   "metadata": {},
   "source": [
    "## Accessing data and checking accuracy"
   ]
  },
  {
   "cell_type": "code",
   "execution_count": null,
   "id": "c4b2c0f7-88b4-4b18-bcdc-bc0be30d15c4",
   "metadata": {},
   "outputs": [],
   "source": [
    "equilibrium.display_order(4)"
   ]
  },
  {
   "cell_type": "code",
   "execution_count": null,
   "id": "f021ff90-bf6e-4c41-a060-324ff9ca6707",
   "metadata": {},
   "outputs": [],
   "source": [
    "(J, Cb, Ck, Ct, I, II, III) = equilibrium.check_governing_equations(4)\n",
    "J.display_content()\n",
    "Cb.display_content()\n",
    "Ck.display_content()\n",
    "Ct.display_content()\n",
    "I.display_content()\n",
    "II.display_content()\n",
    "III.display_content()\n"
   ]
  },
  {
   "cell_type": "code",
   "execution_count": null,
   "id": "bb834028-29af-41ef-9efc-06396ab76061",
   "metadata": {},
   "outputs": [],
   "source": []
  },
  {
   "cell_type": "code",
   "execution_count": null,
   "id": "1315295b-a216-4c23-afe7-ae14e4ac2997",
   "metadata": {},
   "outputs": [],
   "source": []
  }
 ],
 "metadata": {
  "kernelspec": {
   "display_name": "nae",
   "language": "python",
   "name": "nae"
  },
  "language_info": {
   "codemirror_mode": {
    "name": "ipython",
    "version": 3
   },
   "file_extension": ".py",
   "mimetype": "text/x-python",
   "name": "python",
   "nbconvert_exporter": "python",
   "pygments_lexer": "ipython3",
   "version": "3.10.9"
  }
 },
 "nbformat": 4,
 "nbformat_minor": 5
}
