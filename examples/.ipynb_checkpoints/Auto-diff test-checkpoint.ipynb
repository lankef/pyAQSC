{
 "cells": [
  {
   "cell_type": "code",
   "execution_count": 1,
   "id": "bec02d43-2fcb-4fb6-bad4-42455a9cf185",
   "metadata": {},
   "outputs": [],
   "source": [
    "# This file implements and tests recursion relations\n",
    "from jax import grad, vmap, pmap\n",
    "import jax.numpy as jnp\n",
    "from matplotlib import pyplot as plt\n",
    "\n",
    "# for importing parsed codes\n",
    "import sys\n",
    "import cProfile\n",
    "sys.path.insert(1,'../python_source/MHD_parsed/')\n",
    "sys.path.insert(1,'../python_source/')\n",
    "from chiphifunc import *\n",
    "from chiphiepsfunc import *\n",
    "from chiphifunc_test_suite import *\n",
    "from equilibrium import *\n",
    "\n",
    "from leading_orders import *"
   ]
  },
  {
   "cell_type": "code",
   "execution_count": 2,
   "id": "361b2258-2210-419c-845b-5067cf920baa",
   "metadata": {},
   "outputs": [],
   "source": [
    "Rc, Rs = ([1, 0, 0.0001], [0, 0, 0])\n",
    "Zc, Zs = ([0, 0, 0], [0, 0, 0.001])\n",
    "p0 = ChiPhiFunc(\n",
    "    jnp.array([[\n",
    "        1.2       +0.j, 1.1999901 +0.j, 1.1999605 +0.j, 1.1999112 +0.j,\n",
    "        1.1998421 +0.j, 1.1997533 +0.j, 1.1996448 +0.j, 1.1995167 +0.j,\n",
    "        1.1993688 +0.j, 1.1992013 +0.j, 1.1990141 +0.j, 1.1988074 +0.j,\n",
    "        1.1985811 +0.j, 1.1983352 +0.j, 1.1980698 +0.j, 1.1977849 +0.j,\n",
    "        1.1974806 +0.j, 1.1971569 +0.j, 1.1968138 +0.j, 1.1964514 +0.j,\n",
    "        1.1960698 +0.j, 1.1956689 +0.j, 1.1952489 +0.j, 1.1948098 +0.j,\n",
    "        1.1943516 +0.j, 1.1938745 +0.j, 1.1933784 +0.j, 1.1928635 +0.j,\n",
    "        1.1923298 +0.j, 1.1917774 +0.j, 1.1912064 +0.j, 1.1906168 +0.j,\n",
    "        1.1900087 +0.j, 1.1893822 +0.j, 1.1887374 +0.j, 1.1880744 +0.j,\n",
    "        1.1873932 +0.j, 1.186694  +0.j, 1.1859768 +0.j, 1.1852418 +0.j,\n",
    "        1.184489  +0.j, 1.1837185 +0.j, 1.1829305 +0.j, 1.182125  +0.j,\n",
    "        1.1813022 +0.j, 1.1804622 +0.j, 1.179605  +0.j, 1.1787308 +0.j,\n",
    "        1.1778397 +0.j, 1.1769319 +0.j, 1.1760074 +0.j, 1.1750663 +0.j,\n",
    "        1.1741089 +0.j, 1.1731352 +0.j, 1.1721453 +0.j, 1.1711394 +0.j,\n",
    "        1.1701176 +0.j, 1.1690801 +0.j, 1.168027  +0.j, 1.1669584 +0.j,\n",
    "        1.1658745 +0.j, 1.1647754 +0.j, 1.1636613 +0.j, 1.1625323 +0.j,\n",
    "        1.1613885 +0.j, 1.1602302 +0.j, 1.1590574 +0.j, 1.1578703 +0.j,\n",
    "        1.1566692 +0.j, 1.155454  +0.j, 1.1542251 +0.j, 1.1529825 +0.j,\n",
    "        1.1517265 +0.j, 1.1504571 +0.j, 1.1491746 +0.j, 1.1478792 +0.j,\n",
    "        1.1465709 +0.j, 1.14525   +0.j, 1.1439167 +0.j, 1.1425711 +0.j,\n",
    "        1.1412133 +0.j, 1.1398437 +0.j, 1.1384623 +0.j, 1.1370694 +0.j,\n",
    "        1.1356651 +0.j, 1.1342496 +0.j, 1.1328231 +0.j, 1.1313857 +0.j,\n",
    "        1.1299378 +0.j, 1.1284794 +0.j, 1.1270107 +0.j, 1.125532  +0.j,\n",
    "        1.1240434 +0.j, 1.1225452 +0.j, 1.1210375 +0.j, 1.1195205 +0.j,\n",
    "        1.1179944 +0.j, 1.1164595 +0.j, 1.1149159 +0.j, 1.1133638 +0.j,\n",
    "        1.1118034 +0.j, 1.1102349 +0.j, 1.1086586 +0.j, 1.1070746 +0.j,\n",
    "        1.1054832 +0.j, 1.1038845 +0.j, 1.1022787 +0.j, 1.1006662 +0.j,\n",
    "        1.0990469 +0.j, 1.0974213 +0.j, 1.0957895 +0.j, 1.0941516 +0.j,\n",
    "        1.092508  +0.j, 1.0908588 +0.j, 1.0892042 +0.j, 1.0875444 +0.j,\n",
    "        1.0858798 +0.j, 1.0842103 +0.j, 1.0825364 +0.j, 1.0808582 +0.j,\n",
    "        1.0791759 +0.j, 1.0774897 +0.j, 1.0757999 +0.j, 1.0741067 +0.j,\n",
    "        1.0724102 +0.j, 1.0707107 +0.j, 1.0690084 +0.j, 1.0673035 +0.j,\n",
    "        1.0655963 +0.j, 1.0638869 +0.j, 1.0621757 +0.j, 1.0604627 +0.j,\n",
    "        1.0587482 +0.j, 1.0570324 +0.j, 1.0553155 +0.j, 1.0535979 +0.j,\n",
    "        1.0518795 +0.j, 1.0501608 +0.j, 1.0484419 +0.j, 1.046723  +0.j,\n",
    "        1.0450043 +0.j, 1.043286  +0.j, 1.0415684 +0.j, 1.0398517 +0.j,\n",
    "        1.0381361 +0.j, 1.0364217 +0.j, 1.0347089 +0.j, 1.0329978 +0.j,\n",
    "        1.0312886 +0.j, 1.0295815 +0.j, 1.0278768 +0.j, 1.0261747 +0.j,\n",
    "        1.0244753 +0.j, 1.0227789 +0.j, 1.0210857 +0.j, 1.0193959 +0.j,\n",
    "        1.0177097 +0.j, 1.0160272 +0.j, 1.0143488 +0.j, 1.0126746 +0.j,\n",
    "        1.0110048 +0.j, 1.0093395 +0.j, 1.0076791 +0.j, 1.0060237 +0.j,\n",
    "        1.0043736 +0.j, 1.0027288 +0.j, 1.0010896 +0.j, 0.99945619+0.j,\n",
    "        0.99782878+0.j, 0.99620755+0.j, 0.99459269+0.j, 0.99298439+0.j,\n",
    "        0.99138283+0.j, 0.98978821+0.j, 0.98820072+0.j, 0.98662052+0.j,\n",
    "        0.98504782+0.j, 0.98348279+0.j, 0.98192562+0.j, 0.98037647+0.j,\n",
    "        0.97883553+0.j, 0.97730298+0.j, 0.97577898+0.j, 0.97426372+0.j,\n",
    "        0.97275736+0.j, 0.97126008+0.j, 0.96977204+0.j, 0.9682934 +0.j,\n",
    "        0.96682434+0.j, 0.96536502+0.j, 0.96391559+0.j, 0.96247622+0.j,\n",
    "        0.96104707+0.j, 0.95962829+0.j, 0.95822004+0.j, 0.95682247+0.j,\n",
    "        0.95543572+0.j, 0.95405996+0.j, 0.95269532+0.j, 0.95134195+0.j,\n",
    "        0.95      +0.j, 0.9486696 +0.j, 0.9473509 +0.j, 0.94604403+0.j,\n",
    "        0.94474912+0.j, 0.94346632+0.j, 0.94219575+0.j, 0.94093753+0.j,\n",
    "        0.93969181+0.j, 0.9384587 +0.j, 0.93723832+0.j, 0.9360308 +0.j,\n",
    "        0.93483625+0.j, 0.9336548 +0.j, 0.93248655+0.j, 0.93133162+0.j,\n",
    "        0.93019011+0.j, 0.92906214+0.j, 0.92794781+0.j, 0.92684723+0.j,\n",
    "        0.92576048+0.j, 0.92468768+0.j, 0.92362892+0.j, 0.92258429+0.j,\n",
    "        0.92155389+0.j, 0.92053779+0.j, 0.9195361 +0.j, 0.9185489 +0.j,\n",
    "        0.91757626+0.j, 0.91661827+0.j, 0.91567501+0.j, 0.91474654+0.j,\n",
    "        0.91383295+0.j, 0.9129343 +0.j, 0.91205067+0.j, 0.91118211+0.j,\n",
    "        0.91032869+0.j, 0.90949047+0.j, 0.90866751+0.j, 0.90785986+0.j,\n",
    "        0.90706758+0.j, 0.90629072+0.j, 0.90552933+0.j, 0.90478345+0.j,\n",
    "        0.90405313+0.j, 0.9033384 +0.j, 0.90263931+0.j, 0.9019559 +0.j,\n",
    "        0.90128819+0.j, 0.90063621+0.j, 0.9       +0.j, 0.89937958+0.j,\n",
    "        0.89877498+0.j, 0.89818621+0.j, 0.89761329+0.j, 0.89705625+0.j,\n",
    "        0.89651509+0.j, 0.89598983+0.j, 0.89548047+0.j, 0.89498702+0.j,\n",
    "        0.89450948+0.j, 0.89404785+0.j, 0.89360214+0.j, 0.89317234+0.j,\n",
    "        0.89275845+0.j, 0.89236044+0.j, 0.89197832+0.j, 0.89161207+0.j,\n",
    "        0.89126167+0.j, 0.89092711+0.j, 0.89060836+0.j, 0.8903054 +0.j,\n",
    "        0.8900182 +0.j, 0.88974674+0.j, 0.88949099+0.j, 0.8892509 +0.j,\n",
    "        0.88902645+0.j, 0.8888176 +0.j, 0.88862431+0.j, 0.88844653+0.j,\n",
    "        0.88828422+0.j, 0.88813733+0.j, 0.88800582+0.j, 0.88788962+0.j,\n",
    "        0.88778869+0.j, 0.88770297+0.j, 0.8876324 +0.j, 0.88757691+0.j,\n",
    "        0.88753646+0.j, 0.88751095+0.j, 0.88750034+0.j, 0.88750455+0.j,\n",
    "        0.88752351+0.j, 0.88755714+0.j, 0.88760536+0.j, 0.8876681 +0.j,\n",
    "        0.88774527+0.j, 0.88783679+0.j, 0.88794258+0.j, 0.88806255+0.j,\n",
    "        0.8881966 +0.j, 0.88834465+0.j, 0.8885066 +0.j, 0.88868235+0.j,\n",
    "        0.88887182+0.j, 0.88907488+0.j, 0.88929146+0.j, 0.88952143+0.j,\n",
    "        0.8897647 +0.j, 0.89002115+0.j, 0.89029068+0.j, 0.89057318+0.j,\n",
    "        0.89086852+0.j, 0.8911766 +0.j, 0.8914973 +0.j, 0.8918305 +0.j,\n",
    "        0.89217608+0.j, 0.89253391+0.j, 0.89290387+0.j, 0.89328583+0.j,\n",
    "        0.89367967+0.j, 0.89408526+0.j, 0.89450246+0.j, 0.89493115+0.j,\n",
    "        0.89537118+0.j, 0.89582242+0.j, 0.89628474+0.j, 0.896758  +0.j,\n",
    "        0.89724205+0.j, 0.89773674+0.j, 0.89824195+0.j, 0.89875752+0.j,\n",
    "        0.89928331+0.j, 0.89981917+0.j, 0.90036495+0.j, 0.90092049+0.j,\n",
    "        0.90148565+0.j, 0.90206028+0.j, 0.90264422+0.j, 0.9032373 +0.j,\n",
    "        0.90383939+0.j, 0.90445032+0.j, 0.90506992+0.j, 0.90569805+0.j,\n",
    "        0.90633453+0.j, 0.90697921+0.j, 0.90763192+0.j, 0.9082925 +0.j,\n",
    "        0.90896078+0.j, 0.90963659+0.j, 0.91031978+0.j, 0.91101016+0.j,\n",
    "        0.91170758+0.j, 0.91241185+0.j, 0.91312282+0.j, 0.91384031+0.j,\n",
    "        0.91456414+0.j, 0.91529415+0.j, 0.91603015+0.j, 0.91677199+0.j,\n",
    "        0.91751947+0.j, 0.91827243+0.j, 0.91903069+0.j, 0.91979407+0.j,\n",
    "        0.9205624 +0.j, 0.92133549+0.j, 0.92211317+0.j, 0.92289527+0.j,\n",
    "        0.9236816 +0.j, 0.92447198+0.j, 0.92526624+0.j, 0.92606419+0.j,\n",
    "        0.92686565+0.j, 0.92767045+0.j, 0.9284784 +0.j, 0.92928932+0.j,\n",
    "        0.93010304+0.j, 0.93091936+0.j, 0.93173812+0.j, 0.93255912+0.j,\n",
    "        0.93338219+0.j, 0.93420715+0.j, 0.93503381+0.j, 0.93586199+0.j,\n",
    "        0.93669152+0.j, 0.93752222+0.j, 0.93835389+0.j, 0.93918637+0.j,\n",
    "        0.94001947+0.j, 0.94085301+0.j, 0.94168681+0.j, 0.94252069+0.j,\n",
    "        0.94335448+0.j, 0.944188  +0.j, 0.94502106+0.j, 0.94585349+0.j,\n",
    "        0.94668511+0.j, 0.94751575+0.j, 0.94834523+0.j, 0.94917337+0.j,\n",
    "        0.95      +0.j, 0.95082494+0.j, 0.95164803+0.j, 0.95246908+0.j,\n",
    "        0.95328793+0.j, 0.9541044 +0.j, 0.95491832+0.j, 0.95572952+0.j,\n",
    "        0.95653784+0.j, 0.9573431 +0.j, 0.95814514+0.j, 0.95894378+0.j,\n",
    "        0.95973887+0.j, 0.96053024+0.j, 0.96131773+0.j, 0.96210116+0.j,\n",
    "        0.96288039+0.j, 0.96365525+0.j, 0.96442558+0.j, 0.96519122+0.j,\n",
    "        0.96595201+0.j, 0.9667078 +0.j, 0.96745844+0.j, 0.96820376+0.j,\n",
    "        0.96894363+0.j, 0.96967787+0.j, 0.97040636+0.j, 0.97112893+0.j,\n",
    "        0.97184544+0.j, 0.97255574+0.j, 0.97325969+0.j, 0.97395715+0.j,\n",
    "        0.97464798+0.j, 0.97533203+0.j, 0.97600916+0.j, 0.97667925+0.j,\n",
    "        0.97734215+0.j, 0.97799772+0.j, 0.97864585+0.j, 0.97928639+0.j,\n",
    "        0.97991921+0.j, 0.9805442 +0.j, 0.98116122+0.j, 0.98177015+0.j,\n",
    "        0.98237087+0.j, 0.98296325+0.j, 0.98354718+0.j, 0.98412254+0.j,\n",
    "        0.98468921+0.j, 0.98524708+0.j, 0.98579605+0.j, 0.98633599+0.j,\n",
    "        0.98686681+0.j, 0.98738838+0.j, 0.98790063+0.j, 0.98840342+0.j,\n",
    "        0.98889668+0.j, 0.9893803 +0.j, 0.98985418+0.j, 0.99031823+0.j,\n",
    "        0.99077235+0.j, 0.99121646+0.j, 0.99165047+0.j, 0.99207429+0.j,\n",
    "        0.99248784+0.j, 0.99289103+0.j, 0.99328378+0.j, 0.99366603+0.j,\n",
    "        0.99403768+0.j, 0.99439867+0.j, 0.99474892+0.j, 0.99508837+0.j,\n",
    "        0.99541695+0.j, 0.99573459+0.j, 0.99604124+0.j, 0.99633682+0.j,\n",
    "        0.99662128+0.j, 0.99689457+0.j, 0.99715662+0.j, 0.9974074 +0.j,\n",
    "        0.99764685+0.j, 0.99787491+0.j, 0.99809156+0.j, 0.99829673+0.j,\n",
    "        0.9984904 +0.j, 0.99867253+0.j, 0.99884307+0.j, 0.999002  +0.j,\n",
    "        0.99914928+0.j, 0.99928489+0.j, 0.9994088 +0.j, 0.99952098+0.j,\n",
    "        0.99962141+0.j, 0.99971007+0.j, 0.99978694+0.j, 0.99985202+0.j,\n",
    "        0.99990528+0.j, 0.99994671+0.j, 0.99997631+0.j, 0.99999408+0.j,\n",
    "        1.        +0.j, 0.99999408+0.j, 0.99997631+0.j, 0.99994671+0.j,\n",
    "        0.99990528+0.j, 0.99985202+0.j, 0.99978694+0.j, 0.99971007+0.j,\n",
    "        0.99962141+0.j, 0.99952098+0.j, 0.9994088 +0.j, 0.99928489+0.j,\n",
    "        0.99914928+0.j, 0.999002  +0.j, 0.99884307+0.j, 0.99867253+0.j,\n",
    "        0.9984904 +0.j, 0.99829673+0.j, 0.99809156+0.j, 0.99787491+0.j,\n",
    "        0.99764685+0.j, 0.9974074 +0.j, 0.99715662+0.j, 0.99689457+0.j,\n",
    "        0.99662128+0.j, 0.99633682+0.j, 0.99604124+0.j, 0.99573459+0.j,\n",
    "        0.99541695+0.j, 0.99508837+0.j, 0.99474892+0.j, 0.99439867+0.j,\n",
    "        0.99403768+0.j, 0.99366603+0.j, 0.99328378+0.j, 0.99289103+0.j,\n",
    "        0.99248784+0.j, 0.99207429+0.j, 0.99165047+0.j, 0.99121646+0.j,\n",
    "        0.99077235+0.j, 0.99031823+0.j, 0.98985418+0.j, 0.9893803 +0.j,\n",
    "        0.98889668+0.j, 0.98840342+0.j, 0.98790063+0.j, 0.98738838+0.j,\n",
    "        0.98686681+0.j, 0.98633599+0.j, 0.98579605+0.j, 0.98524708+0.j,\n",
    "        0.98468921+0.j, 0.98412254+0.j, 0.98354718+0.j, 0.98296325+0.j,\n",
    "        0.98237087+0.j, 0.98177015+0.j, 0.98116122+0.j, 0.9805442 +0.j,\n",
    "        0.97991921+0.j, 0.97928639+0.j, 0.97864585+0.j, 0.97799772+0.j,\n",
    "        0.97734215+0.j, 0.97667925+0.j, 0.97600916+0.j, 0.97533203+0.j,\n",
    "        0.97464798+0.j, 0.97395715+0.j, 0.97325969+0.j, 0.97255574+0.j,\n",
    "        0.97184544+0.j, 0.97112893+0.j, 0.97040636+0.j, 0.96967787+0.j,\n",
    "        0.96894363+0.j, 0.96820376+0.j, 0.96745844+0.j, 0.9667078 +0.j,\n",
    "        0.96595201+0.j, 0.96519122+0.j, 0.96442558+0.j, 0.96365525+0.j,\n",
    "        0.96288039+0.j, 0.96210116+0.j, 0.96131773+0.j, 0.96053024+0.j,\n",
    "        0.95973887+0.j, 0.95894378+0.j, 0.95814514+0.j, 0.9573431 +0.j,\n",
    "        0.95653784+0.j, 0.95572952+0.j, 0.95491832+0.j, 0.9541044 +0.j,\n",
    "        0.95328793+0.j, 0.95246908+0.j, 0.95164803+0.j, 0.95082494+0.j,\n",
    "        0.95      +0.j, 0.94917337+0.j, 0.94834523+0.j, 0.94751575+0.j,\n",
    "        0.94668511+0.j, 0.94585349+0.j, 0.94502106+0.j, 0.944188  +0.j,\n",
    "        0.94335448+0.j, 0.94252069+0.j, 0.94168681+0.j, 0.94085301+0.j,\n",
    "        0.94001947+0.j, 0.93918637+0.j, 0.93835389+0.j, 0.93752222+0.j,\n",
    "        0.93669152+0.j, 0.93586199+0.j, 0.93503381+0.j, 0.93420715+0.j,\n",
    "        0.93338219+0.j, 0.93255912+0.j, 0.93173812+0.j, 0.93091936+0.j,\n",
    "        0.93010304+0.j, 0.92928932+0.j, 0.9284784 +0.j, 0.92767045+0.j,\n",
    "        0.92686565+0.j, 0.92606419+0.j, 0.92526624+0.j, 0.92447198+0.j,\n",
    "        0.9236816 +0.j, 0.92289527+0.j, 0.92211317+0.j, 0.92133549+0.j,\n",
    "        0.9205624 +0.j, 0.91979407+0.j, 0.91903069+0.j, 0.91827243+0.j,\n",
    "        0.91751947+0.j, 0.91677199+0.j, 0.91603015+0.j, 0.91529415+0.j,\n",
    "        0.91456414+0.j, 0.91384031+0.j, 0.91312282+0.j, 0.91241185+0.j,\n",
    "        0.91170758+0.j, 0.91101016+0.j, 0.91031978+0.j, 0.90963659+0.j,\n",
    "        0.90896078+0.j, 0.9082925 +0.j, 0.90763192+0.j, 0.90697921+0.j,\n",
    "        0.90633453+0.j, 0.90569805+0.j, 0.90506992+0.j, 0.90445032+0.j,\n",
    "        0.90383939+0.j, 0.9032373 +0.j, 0.90264422+0.j, 0.90206028+0.j,\n",
    "        0.90148565+0.j, 0.90092049+0.j, 0.90036495+0.j, 0.89981917+0.j,\n",
    "        0.89928331+0.j, 0.89875752+0.j, 0.89824195+0.j, 0.89773674+0.j,\n",
    "        0.89724205+0.j, 0.896758  +0.j, 0.89628474+0.j, 0.89582242+0.j,\n",
    "        0.89537118+0.j, 0.89493115+0.j, 0.89450246+0.j, 0.89408526+0.j,\n",
    "        0.89367967+0.j, 0.89328583+0.j, 0.89290387+0.j, 0.89253391+0.j,\n",
    "        0.89217608+0.j, 0.8918305 +0.j, 0.8914973 +0.j, 0.8911766 +0.j,\n",
    "        0.89086852+0.j, 0.89057318+0.j, 0.89029068+0.j, 0.89002115+0.j,\n",
    "        0.8897647 +0.j, 0.88952143+0.j, 0.88929146+0.j, 0.88907488+0.j,\n",
    "        0.88887182+0.j, 0.88868235+0.j, 0.8885066 +0.j, 0.88834465+0.j,\n",
    "        0.8881966 +0.j, 0.88806255+0.j, 0.88794258+0.j, 0.88783679+0.j,\n",
    "        0.88774527+0.j, 0.8876681 +0.j, 0.88760536+0.j, 0.88755714+0.j,\n",
    "        0.88752351+0.j, 0.88750455+0.j, 0.88750034+0.j, 0.88751095+0.j,\n",
    "        0.88753646+0.j, 0.88757691+0.j, 0.8876324 +0.j, 0.88770297+0.j,\n",
    "        0.88778869+0.j, 0.88788962+0.j, 0.88800582+0.j, 0.88813733+0.j,\n",
    "        0.88828422+0.j, 0.88844653+0.j, 0.88862431+0.j, 0.8888176 +0.j,\n",
    "        0.88902645+0.j, 0.8892509 +0.j, 0.88949099+0.j, 0.88974674+0.j,\n",
    "        0.8900182 +0.j, 0.8903054 +0.j, 0.89060836+0.j, 0.89092711+0.j,\n",
    "        0.89126167+0.j, 0.89161207+0.j, 0.89197832+0.j, 0.89236044+0.j,\n",
    "        0.89275845+0.j, 0.89317234+0.j, 0.89360214+0.j, 0.89404785+0.j,\n",
    "        0.89450948+0.j, 0.89498702+0.j, 0.89548047+0.j, 0.89598983+0.j,\n",
    "        0.89651509+0.j, 0.89705625+0.j, 0.89761329+0.j, 0.89818621+0.j,\n",
    "        0.89877498+0.j, 0.89937958+0.j, 0.9       +0.j, 0.90063621+0.j,\n",
    "        0.90128819+0.j, 0.9019559 +0.j, 0.90263931+0.j, 0.9033384 +0.j,\n",
    "        0.90405313+0.j, 0.90478345+0.j, 0.90552933+0.j, 0.90629072+0.j,\n",
    "        0.90706758+0.j, 0.90785986+0.j, 0.90866751+0.j, 0.90949047+0.j,\n",
    "        0.91032869+0.j, 0.91118211+0.j, 0.91205067+0.j, 0.9129343 +0.j,\n",
    "        0.91383295+0.j, 0.91474654+0.j, 0.91567501+0.j, 0.91661827+0.j,\n",
    "        0.91757626+0.j, 0.9185489 +0.j, 0.9195361 +0.j, 0.92053779+0.j,\n",
    "        0.92155389+0.j, 0.92258429+0.j, 0.92362892+0.j, 0.92468768+0.j,\n",
    "        0.92576048+0.j, 0.92684723+0.j, 0.92794781+0.j, 0.92906214+0.j,\n",
    "        0.93019011+0.j, 0.93133162+0.j, 0.93248655+0.j, 0.9336548 +0.j,\n",
    "        0.93483625+0.j, 0.9360308 +0.j, 0.93723832+0.j, 0.9384587 +0.j,\n",
    "        0.93969181+0.j, 0.94093753+0.j, 0.94219575+0.j, 0.94346632+0.j,\n",
    "        0.94474912+0.j, 0.94604403+0.j, 0.9473509 +0.j, 0.9486696 +0.j,\n",
    "        0.95      +0.j, 0.95134195+0.j, 0.95269532+0.j, 0.95405996+0.j,\n",
    "        0.95543572+0.j, 0.95682247+0.j, 0.95822004+0.j, 0.95962829+0.j,\n",
    "        0.96104707+0.j, 0.96247622+0.j, 0.96391559+0.j, 0.96536502+0.j,\n",
    "        0.96682434+0.j, 0.9682934 +0.j, 0.96977204+0.j, 0.97126008+0.j,\n",
    "        0.97275736+0.j, 0.97426372+0.j, 0.97577898+0.j, 0.97730298+0.j,\n",
    "        0.97883553+0.j, 0.98037647+0.j, 0.98192562+0.j, 0.98348279+0.j,\n",
    "        0.98504782+0.j, 0.98662052+0.j, 0.98820072+0.j, 0.98978821+0.j,\n",
    "        0.99138283+0.j, 0.99298439+0.j, 0.99459269+0.j, 0.99620755+0.j,\n",
    "        0.99782878+0.j, 0.99945619+0.j, 1.0010896 +0.j, 1.0027288 +0.j,\n",
    "        1.0043736 +0.j, 1.0060237 +0.j, 1.0076791 +0.j, 1.0093395 +0.j,\n",
    "        1.0110048 +0.j, 1.0126746 +0.j, 1.0143488 +0.j, 1.0160272 +0.j,\n",
    "        1.0177097 +0.j, 1.0193959 +0.j, 1.0210857 +0.j, 1.0227789 +0.j,\n",
    "        1.0244753 +0.j, 1.0261747 +0.j, 1.0278768 +0.j, 1.0295815 +0.j,\n",
    "        1.0312886 +0.j, 1.0329978 +0.j, 1.0347089 +0.j, 1.0364217 +0.j,\n",
    "        1.0381361 +0.j, 1.0398517 +0.j, 1.0415684 +0.j, 1.043286  +0.j,\n",
    "        1.0450043 +0.j, 1.046723  +0.j, 1.0484419 +0.j, 1.0501608 +0.j,\n",
    "        1.0518795 +0.j, 1.0535979 +0.j, 1.0553155 +0.j, 1.0570324 +0.j,\n",
    "        1.0587482 +0.j, 1.0604627 +0.j, 1.0621757 +0.j, 1.0638869 +0.j,\n",
    "        1.0655963 +0.j, 1.0673035 +0.j, 1.0690084 +0.j, 1.0707107 +0.j,\n",
    "        1.0724102 +0.j, 1.0741067 +0.j, 1.0757999 +0.j, 1.0774897 +0.j,\n",
    "        1.0791759 +0.j, 1.0808582 +0.j, 1.0825364 +0.j, 1.0842103 +0.j,\n",
    "        1.0858798 +0.j, 1.0875444 +0.j, 1.0892042 +0.j, 1.0908588 +0.j,\n",
    "        1.092508  +0.j, 1.0941516 +0.j, 1.0957895 +0.j, 1.0974213 +0.j,\n",
    "        1.0990469 +0.j, 1.1006662 +0.j, 1.1022787 +0.j, 1.1038845 +0.j,\n",
    "        1.1054832 +0.j, 1.1070746 +0.j, 1.1086586 +0.j, 1.1102349 +0.j,\n",
    "        1.1118034 +0.j, 1.1133638 +0.j, 1.1149159 +0.j, 1.1164595 +0.j,\n",
    "        1.1179944 +0.j, 1.1195205 +0.j, 1.1210375 +0.j, 1.1225452 +0.j,\n",
    "        1.1240434 +0.j, 1.125532  +0.j, 1.1270107 +0.j, 1.1284794 +0.j,\n",
    "        1.1299378 +0.j, 1.1313857 +0.j, 1.1328231 +0.j, 1.1342496 +0.j,\n",
    "        1.1356651 +0.j, 1.1370694 +0.j, 1.1384623 +0.j, 1.1398437 +0.j,\n",
    "        1.1412133 +0.j, 1.1425711 +0.j, 1.1439167 +0.j, 1.14525   +0.j,\n",
    "        1.1465709 +0.j, 1.1478792 +0.j, 1.1491746 +0.j, 1.1504571 +0.j,\n",
    "        1.1517265 +0.j, 1.1529825 +0.j, 1.1542251 +0.j, 1.155454  +0.j,\n",
    "        1.1566692 +0.j, 1.1578703 +0.j, 1.1590574 +0.j, 1.1602302 +0.j,\n",
    "        1.1613885 +0.j, 1.1625323 +0.j, 1.1636613 +0.j, 1.1647754 +0.j,\n",
    "        1.1658745 +0.j, 1.1669584 +0.j, 1.168027  +0.j, 1.1690801 +0.j,\n",
    "        1.1701176 +0.j, 1.1711394 +0.j, 1.1721453 +0.j, 1.1731352 +0.j,\n",
    "        1.1741089 +0.j, 1.1750663 +0.j, 1.1760074 +0.j, 1.1769319 +0.j,\n",
    "        1.1778397 +0.j, 1.1787308 +0.j, 1.179605  +0.j, 1.1804622 +0.j,\n",
    "        1.1813022 +0.j, 1.182125  +0.j, 1.1829305 +0.j, 1.1837185 +0.j,\n",
    "        1.184489  +0.j, 1.1852418 +0.j, 1.1859768 +0.j, 1.186694  +0.j,\n",
    "        1.1873932 +0.j, 1.1880744 +0.j, 1.1887374 +0.j, 1.1893822 +0.j,\n",
    "        1.1900087 +0.j, 1.1906168 +0.j, 1.1912064 +0.j, 1.1917774 +0.j,\n",
    "        1.1923298 +0.j, 1.1928635 +0.j, 1.1933784 +0.j, 1.1938745 +0.j,\n",
    "        1.1943516 +0.j, 1.1948098 +0.j, 1.1952489 +0.j, 1.1956689 +0.j,\n",
    "        1.1960698 +0.j, 1.1964514 +0.j, 1.1968138 +0.j, 1.1971569 +0.j,\n",
    "        1.1974806 +0.j, 1.1977849 +0.j, 1.1980698 +0.j, 1.1983352 +0.j,\n",
    "        1.1985811 +0.j, 1.1988074 +0.j, 1.1990141 +0.j, 1.1992013 +0.j,\n",
    "        1.1993688 +0.j, 1.1995167 +0.j, 1.1996448 +0.j, 1.1997533 +0.j,\n",
    "        1.1998421 +0.j, 1.1999112 +0.j, 1.1999605 +0.j, 1.1999901 +0.j\n",
    "    ]]),\n",
    "    nfp=1\n",
    ")\n",
    "B2 = ChiPhiFunc(\n",
    "        jnp.array([[0.005+0.005j],\n",
    "                 [0.01 +0.j   ],\n",
    "                 [0.005-0.005j]]),\n",
    "        nfp=1\n",
    "    )\n",
    "leading_orders_jit = jit(leading_orders, static_argnums=(0,13,14))"
   ]
  },
  {
   "cell_type": "code",
   "execution_count": 13,
   "id": "f24d360d-595a-4678-b6e7-6bdd8cf0a080",
   "metadata": {},
   "outputs": [
    {
     "name": "stdout",
     "output_type": "stream",
     "text": [
      "CPU times: user 31.3 s, sys: 1.74 s, total: 33 s\n",
      "Wall time: 22.3 s\n"
     ]
    },
    {
     "data": {
      "text/plain": [
       "DeviceArray(0.3581624, dtype=float64)"
      ]
     },
     "execution_count": 13,
     "metadata": {},
     "output_type": "execute_result"
    }
   ],
   "source": [
    "%%time\n",
    "equil_to_grad = leading_orders_jit(\n",
    "    nfp = 1,\n",
    "    Rc = Rc,\n",
    "    Rs = Rs,\n",
    "    Zc = Zc,\n",
    "    Zs = Zs,\n",
    "    p0 = p0,\n",
    "    Delta_0_avg = 0,\n",
    "    iota_0 = 0.52564852,\n",
    "    B_theta_20_avg = 1.5125089,\n",
    "    B_alpha_1 = 0.1,\n",
    "    B0 = 1.0, # 1.0\n",
    "    B11c = -1.8,\n",
    "    B2 = B2,\n",
    "    len_phi = 1000,\n",
    "    fft_max_freq = (15, 20)\n",
    ")\n",
    "jnp.max(jnp.abs(equil_to_grad.unknown['B_theta_coef_cp'][2].dphi()[0].content))"
   ]
  },
  {
   "cell_type": "code",
   "execution_count": null,
   "id": "f9dc78d6-812a-45af-b954-1ccad8f1a12a",
   "metadata": {},
   "outputs": [],
   "source": [
    "0.48247451"
   ]
  },
  {
   "cell_type": "code",
   "execution_count": 14,
   "id": "6651a418-65a0-48c0-9ced-c906002fada4",
   "metadata": {},
   "outputs": [],
   "source": [
    "@jit\n",
    "def B_theta_20_p_amx_amp(B0_in=1.0):\n",
    "    equil_to_grad = leading_orders_jit(\n",
    "        nfp = 1,\n",
    "        Rc = Rc,\n",
    "        Rs = Rs,\n",
    "        Zc = Zc,\n",
    "        Zs = Zs,\n",
    "        p0 = p0,\n",
    "        Delta_0_avg = 0,\n",
    "        iota_0 = 0.52564852,\n",
    "        B_theta_20_avg = 1.5125089,\n",
    "        B_alpha_1 = 0.1,\n",
    "        B0 = B0_in, # 1.0\n",
    "        B11c = -1.8,\n",
    "        B2 = B2,\n",
    "        len_phi = 1000,\n",
    "        fft_max_freq = (15, 20)\n",
    "    )\n",
    "    return(jnp.max(jnp.abs(equil_to_grad.unknown['B_theta_coef_cp'][2].dphi()[0].content)))\n",
    "    "
   ]
  },
  {
   "cell_type": "code",
   "execution_count": 7,
   "id": "6740b147-9f9c-4fb8-8dd8-7f8b58bdce89",
   "metadata": {},
   "outputs": [],
   "source": [
    "a = jnp.array([1,2,3])\n"
   ]
  },
  {
   "cell_type": "code",
   "execution_count": 10,
   "id": "4e63a69c-58a3-46fc-9161-c4d3de61faac",
   "metadata": {},
   "outputs": [
    {
     "data": {
      "text/plain": [
       "DeviceArray([ 1, 66, 66], dtype=int64)"
      ]
     },
     "execution_count": 10,
     "metadata": {},
     "output_type": "execute_result"
    }
   ],
   "source": [
    "jnp.where(jnp.logical_and(a<2, 1<2), a, 66)"
   ]
  },
  {
   "cell_type": "code",
   "execution_count": 22,
   "id": "4838e6c2-5af5-49bc-9d84-593b359d9619",
   "metadata": {},
   "outputs": [
    {
     "name": "stdout",
     "output_type": "stream",
     "text": [
      "CPU times: user 4.37 s, sys: 163 ms, total: 4.53 s\n",
      "Wall time: 541 ms\n"
     ]
    },
    {
     "data": {
      "text/plain": [
       "DeviceArray(1.5125089, dtype=float64)"
      ]
     },
     "execution_count": 22,
     "metadata": {},
     "output_type": "execute_result"
    }
   ],
   "source": [
    "%%time\n",
    "B_theta_20_amp(1.9)"
   ]
  },
  {
   "cell_type": "code",
   "execution_count": 23,
   "id": "ce0fb0f7-6b48-43da-8931-5d6de6a400c8",
   "metadata": {},
   "outputs": [
    {
     "name": "stdout",
     "output_type": "stream",
     "text": [
      "CPU times: user 4.32 s, sys: 107 ms, total: 4.42 s\n",
      "Wall time: 503 ms\n"
     ]
    },
    {
     "data": {
      "text/plain": [
       "DeviceArray(0.6041402, dtype=float64)"
      ]
     },
     "execution_count": 23,
     "metadata": {},
     "output_type": "execute_result"
    }
   ],
   "source": [
    "%%time\n",
    "B_theta_20_p_amx_amp(1.6)"
   ]
  },
  {
   "cell_type": "code",
   "execution_count": 35,
   "id": "9d2bcd1f-ab35-48ef-8800-3605205f2971",
   "metadata": {},
   "outputs": [
    {
     "name": "stdout",
     "output_type": "stream",
     "text": [
      "-2.0\n",
      "-1.9\n",
      "-1.8\n",
      "-1.7000000000000002\n",
      "-1.6\n"
     ]
    },
    {
     "data": {
      "text/plain": [
       "[<matplotlib.lines.Line2D at 0x7f9c9219fee0>]"
      ]
     },
     "execution_count": 35,
     "metadata": {},
     "output_type": "execute_result"
    },
    {
     "data": {
      "image/png": "[encoded data removed]",
      "text/plain": [
       "<Figure size 640x480 with 1 Axes>"
      ]
     },
     "metadata": {},
     "output_type": "display_data"
    }
   ],
   "source": [
    "B11c_i_0 = -1.8\n",
    "B11c_i_list = jnp.linspace(B11c_i_0-0.2,B11c_i_0+0.2,5)\n",
    "B_theta_amp_list = []\n",
    "for B11c_i in B11c_i_list:\n",
    "    print(B11c_i)\n",
    "    B_theta_amp_list.append(B_theta_20_amp(B11c_i))\n",
    "plt.plot(B11c_i_list, B_theta_amp_list)"
   ]
  },
  {
   "cell_type": "code",
   "execution_count": 26,
   "id": "84f5012e-59f4-4859-85d2-5cbb4c710bca",
   "metadata": {},
   "outputs": [
    {
     "data": {
      "text/plain": [
       "DeviceArray([0.32564852], dtype=float64)"
      ]
     },
     "execution_count": 26,
     "metadata": {},
     "output_type": "execute_result"
    }
   ],
   "source": [
    "jnp.arange(iota_0-0.2,iota_0+0.2,5)"
   ]
  },
  {
   "cell_type": "code",
   "execution_count": 32,
   "id": "44720d09-4517-4e5c-af75-44dd77f66f74",
   "metadata": {},
   "outputs": [],
   "source": [
    "grad_B_theta_20_amp = grad(B_theta_20_amp)"
   ]
  },
  {
   "cell_type": "code",
   "execution_count": 2,
   "id": "3eeb779e-7c52-4d85-b7db-e4facf6e4c42",
   "metadata": {},
   "outputs": [
    {
     "data": {
      "text/plain": [
       "array([[0.70209083, 0.44859892, 0.4950061 , 0.40463066, 0.92915616],\n",
       "       [0.16462329, 0.46234206, 0.34201245, 0.8549163 , 0.14503664],\n",
       "       [0.09346912, 0.25447795, 0.68373066, 0.5740357 , 0.24085898],\n",
       "       [0.93907562, 0.99116866, 0.75704408, 0.77842824, 0.49042809],\n",
       "       [0.51875589, 0.56354341, 0.73093223, 0.41045747, 0.87138378]])"
      ]
     },
     "execution_count": 2,
     "metadata": {},
     "output_type": "execute_result"
    }
   ],
   "source": [
    "a = np.random.random((5,5))\n",
    "a"
   ]
  },
  {
   "cell_type": "code",
   "execution_count": 4,
   "id": "3f91c42c-8595-4495-8880-00a5cc1e0a6b",
   "metadata": {},
   "outputs": [
    {
     "data": {
      "text/plain": [
       "DeviceArray([[[[0.70209083, 0.44859892, 0.4950061 , 0.40463066,\n",
       "                0.92915616],\n",
       "               [0.16462329, 0.46234206, 0.34201245, 0.8549163 ,\n",
       "                0.14503664],\n",
       "               [0.09346912, 0.25447795, 0.68373066, 0.5740357 ,\n",
       "                0.24085898],\n",
       "               [0.93907562, 0.99116866, 0.75704408, 0.77842824,\n",
       "                0.49042809],\n",
       "               [0.51875589, 0.56354341, 0.73093223, 0.41045747,\n",
       "                0.87138378]]]], dtype=float64)"
      ]
     },
     "execution_count": 4,
     "metadata": {},
     "output_type": "execute_result"
    }
   ],
   "source": [
    "low_pass_tensor_fft(a, -1)"
   ]
  },
  {
   "cell_type": "code",
   "execution_count": null,
   "id": "34f6f66a-1926-4a84-85cf-8f4b9451753e",
   "metadata": {},
   "outputs": [],
   "source": []
  }
 ],
 "metadata": {
  "kernelspec": {
   "display_name": "nae",
   "language": "python",
   "name": "nae"
  },
  "language_info": {
   "codemirror_mode": {
    "name": "ipython",
    "version": 3
   },
   "file_extension": ".py",
   "mimetype": "text/x-python",
   "name": "python",
   "nbconvert_exporter": "python",
   "pygments_lexer": "ipython3",
   "version": "3.10.9"
  }
 },
 "nbformat": 4,
 "nbformat_minor": 5
}
